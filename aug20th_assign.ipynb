{
 "cells": [
  {
   "cell_type": "code",
   "execution_count": 1,
   "id": "178e5b0d",
   "metadata": {},
   "outputs": [],
   "source": [
    "#reverse a string"
   ]
  },
  {
   "cell_type": "code",
   "execution_count": 2,
   "id": "f7521999",
   "metadata": {},
   "outputs": [],
   "source": [
    "a='My name is Karan and I am not terrorist'"
   ]
  },
  {
   "cell_type": "code",
   "execution_count": 3,
   "id": "5fca065c",
   "metadata": {},
   "outputs": [
    {
     "data": {
      "text/plain": [
       "'tsirorret ton ma I dna naraK si eman yM'"
      ]
     },
     "execution_count": 3,
     "metadata": {},
     "output_type": "execute_result"
    }
   ],
   "source": [
    "a[::-1]"
   ]
  },
  {
   "cell_type": "code",
   "execution_count": 4,
   "id": "5fc438b1",
   "metadata": {},
   "outputs": [
    {
     "name": "stdout",
     "output_type": "stream",
     "text": [
      "Yes\n"
     ]
    }
   ],
   "source": [
    "def isPalindrome(s):\n",
    "    return s == s[::-1]\n",
    " \n",
    "s = \"malayalam\"\n",
    "ans = isPalindrome(s)\n",
    " \n",
    "if ans:\n",
    "    print(\"Yes\")\n",
    "else:\n",
    "    print(\"No\")\n"
   ]
  },
  {
   "cell_type": "code",
   "execution_count": 5,
   "id": "64e47c10",
   "metadata": {},
   "outputs": [
    {
     "data": {
      "text/plain": [
       "'MY NAME IS KARAN AND I AM NOT TERRORIST'"
      ]
     },
     "execution_count": 5,
     "metadata": {},
     "output_type": "execute_result"
    }
   ],
   "source": [
    "a.upper()"
   ]
  },
  {
   "cell_type": "code",
   "execution_count": 6,
   "id": "ee64b828",
   "metadata": {},
   "outputs": [
    {
     "data": {
      "text/plain": [
       "'my name is karan and i am not terrorist'"
      ]
     },
     "execution_count": 6,
     "metadata": {},
     "output_type": "execute_result"
    }
   ],
   "source": [
    "a.lower()"
   ]
  },
  {
   "cell_type": "code",
   "execution_count": 7,
   "id": "8ec9e555",
   "metadata": {},
   "outputs": [
    {
     "name": "stdout",
     "output_type": "stream",
     "text": [
      "12\n"
     ]
    }
   ],
   "source": [
    "vowels='aeiouAEIOU'\n",
    "count=sum(a.count(vowel) for vowel in vowels)\n",
    "print(count)"
   ]
  },
  {
   "cell_type": "code",
   "execution_count": 8,
   "id": "97f0f7b5",
   "metadata": {},
   "outputs": [
    {
     "name": "stdout",
     "output_type": "stream",
     "text": [
      "155\n"
     ]
    }
   ],
   "source": [
    "count=sum(a.count(consonant) for consonant in a)\n",
    "print(count)"
   ]
  },
  {
   "cell_type": "code",
   "execution_count": 9,
   "id": "2c5d1703",
   "metadata": {},
   "outputs": [
    {
     "data": {
      "text/plain": [
       "'MynameisKaranandIamnotterrorist'"
      ]
     },
     "execution_count": 9,
     "metadata": {},
     "output_type": "execute_result"
    }
   ],
   "source": [
    "a.replace(' ','')"
   ]
  },
  {
   "cell_type": "code",
   "execution_count": 10,
   "id": "29d18449",
   "metadata": {},
   "outputs": [
    {
     "data": {
      "text/plain": [
       "'My name is Karan and I am not terrorist'"
      ]
     },
     "execution_count": 10,
     "metadata": {},
     "output_type": "execute_result"
    }
   ],
   "source": [
    "a"
   ]
  },
  {
   "cell_type": "code",
   "execution_count": 11,
   "id": "05844e25",
   "metadata": {},
   "outputs": [
    {
     "name": "stdout",
     "output_type": "stream",
     "text": [
      "Enter string:Karan\n",
      "Length of the string is:\n",
      "5\n"
     ]
    }
   ],
   "source": [
    "string=input(\"Enter string:\")\n",
    "count=0\n",
    "for i in string:\n",
    "      count=count+1\n",
    "print(\"Length of the string is:\")\n",
    "print(count)"
   ]
  },
  {
   "cell_type": "code",
   "execution_count": 12,
   "id": "57a1bc93",
   "metadata": {},
   "outputs": [
    {
     "name": "stdout",
     "output_type": "stream",
     "text": [
      "Karan is in the string\n"
     ]
    }
   ],
   "source": [
    "if 'Karan' in a:\n",
    "    print('Karan is in the string')\n",
    "else:\n",
    "    print('He is not in the string')"
   ]
  },
  {
   "cell_type": "code",
   "execution_count": 13,
   "id": "18deea79",
   "metadata": {},
   "outputs": [
    {
     "name": "stdout",
     "output_type": "stream",
     "text": [
      "apples is in the string\n"
     ]
    }
   ],
   "source": [
    "if 'apples' in 'This string has apples':\n",
    "    print('apples is in the string')\n",
    "else:\n",
    "    print('He is not in the string')"
   ]
  },
  {
   "cell_type": "code",
   "execution_count": 14,
   "id": "67bd04ec",
   "metadata": {},
   "outputs": [
    {
     "data": {
      "text/plain": [
       "'My name is Rawat and I am not terrorist'"
      ]
     },
     "execution_count": 14,
     "metadata": {},
     "output_type": "execute_result"
    }
   ],
   "source": [
    "a.replace('Karan','Rawat')"
   ]
  },
  {
   "cell_type": "code",
   "execution_count": 15,
   "id": "ac00f400",
   "metadata": {},
   "outputs": [
    {
     "data": {
      "text/plain": [
       "'My name is Karan and I am not terrorist'"
      ]
     },
     "execution_count": 15,
     "metadata": {},
     "output_type": "execute_result"
    }
   ],
   "source": [
    "a"
   ]
  },
  {
   "cell_type": "code",
   "execution_count": 16,
   "id": "2fad7c96",
   "metadata": {},
   "outputs": [],
   "source": [
    "substring='a'"
   ]
  },
  {
   "cell_type": "code",
   "execution_count": 17,
   "id": "c6b423c7",
   "metadata": {},
   "outputs": [
    {
     "name": "stdout",
     "output_type": "stream",
     "text": [
      "The count is: 5\n"
     ]
    }
   ],
   "source": [
    "count=a.count(substring)\n",
    "print(\"The count is:\",count)"
   ]
  },
  {
   "cell_type": "code",
   "execution_count": 18,
   "id": "a968e6ff",
   "metadata": {},
   "outputs": [
    {
     "data": {
      "text/plain": [
       "'M'"
      ]
     },
     "execution_count": 18,
     "metadata": {},
     "output_type": "execute_result"
    }
   ],
   "source": [
    "#first occurrence of a word\n",
    "a[0]"
   ]
  },
  {
   "cell_type": "code",
   "execution_count": 19,
   "id": "810dbdc0",
   "metadata": {},
   "outputs": [
    {
     "data": {
      "text/plain": [
       "'t'"
      ]
     },
     "execution_count": 19,
     "metadata": {},
     "output_type": "execute_result"
    }
   ],
   "source": [
    "#last occurrence of a word\n",
    "a[-1]"
   ]
  },
  {
   "cell_type": "code",
   "execution_count": 20,
   "id": "7f3ee673",
   "metadata": {},
   "outputs": [
    {
     "data": {
      "text/plain": [
       "['My', 'name', 'is', 'Karan', 'and', 'I', 'am', 'not', 'terrorist']"
      ]
     },
     "execution_count": 20,
     "metadata": {},
     "output_type": "execute_result"
    }
   ],
   "source": [
    "#Split a string into a list of words\n",
    "a.split()"
   ]
  },
  {
   "cell_type": "code",
   "execution_count": 21,
   "id": "ff0a3368",
   "metadata": {},
   "outputs": [],
   "source": [
    "l0=[1,2,'rawat',True, 5+8j]"
   ]
  },
  {
   "cell_type": "code",
   "execution_count": 22,
   "id": "8b29d88f",
   "metadata": {},
   "outputs": [
    {
     "data": {
      "text/plain": [
       "\"[1, 2, 'rawat', True, (5+8j)]\""
      ]
     },
     "execution_count": 22,
     "metadata": {},
     "output_type": "execute_result"
    }
   ],
   "source": [
    "#list of words into a string\n",
    "str(l0)"
   ]
  },
  {
   "cell_type": "code",
   "execution_count": 23,
   "id": "edd81106",
   "metadata": {},
   "outputs": [],
   "source": [
    "a1='This is new Assignment of 20th_Aug and we need to submit asap'"
   ]
  },
  {
   "cell_type": "code",
   "execution_count": 24,
   "id": "4a600cf8",
   "metadata": {},
   "outputs": [
    {
     "data": {
      "text/plain": [
       "'This is new Assignment of 20th_Aug and we need to submit asap'"
      ]
     },
     "execution_count": 24,
     "metadata": {},
     "output_type": "execute_result"
    }
   ],
   "source": [
    "a1"
   ]
  },
  {
   "cell_type": "code",
   "execution_count": 25,
   "id": "d16c5e92",
   "metadata": {},
   "outputs": [
    {
     "data": {
      "text/plain": [
       "'This_is_new_Assignment_of_20th_Aug_and_we_need_to_submit_asap'"
      ]
     },
     "execution_count": 25,
     "metadata": {},
     "output_type": "execute_result"
    }
   ],
   "source": [
    "a1.replace(\" \",\"_\",)"
   ]
  },
  {
   "cell_type": "code",
   "execution_count": 26,
   "id": "6a52afe8",
   "metadata": {},
   "outputs": [
    {
     "name": "stdout",
     "output_type": "stream",
     "text": [
      "True\n"
     ]
    }
   ],
   "source": [
    "#starts with a specific word\n",
    "print(a.startswith('My'))"
   ]
  },
  {
   "cell_type": "code",
   "execution_count": 27,
   "id": "da31410b",
   "metadata": {},
   "outputs": [
    {
     "name": "stdout",
     "output_type": "stream",
     "text": [
      "True\n"
     ]
    }
   ],
   "source": [
    "print(a1.endswith('asap'))"
   ]
  },
  {
   "cell_type": "code",
   "execution_count": 28,
   "id": "6b2baba8",
   "metadata": {},
   "outputs": [
    {
     "data": {
      "text/plain": [
       "'This Is New Assignment Of 20Th_Aug And We Need To Submit Asap'"
      ]
     },
     "execution_count": 28,
     "metadata": {},
     "output_type": "execute_result"
    }
   ],
   "source": [
    "a1.title()"
   ]
  },
  {
   "cell_type": "code",
   "execution_count": 29,
   "id": "acffaad8",
   "metadata": {},
   "outputs": [
    {
     "name": "stdout",
     "output_type": "stream",
     "text": [
      "Longest word is: Assignment\n",
      "Position of word is: 12\n"
     ]
    }
   ],
   "source": [
    "word_list=a1.split()\n",
    "longest_word=max(word_list, key=len)\n",
    "pos=a1.index(longest_word)\n",
    "print(\"Longest word is:\", longest_word)\n",
    "print(\"Position of word is:\", pos)"
   ]
  },
  {
   "cell_type": "code",
   "execution_count": 30,
   "id": "419a80c8",
   "metadata": {},
   "outputs": [
    {
     "name": "stdout",
     "output_type": "stream",
     "text": [
      "Shortest word is: is\n",
      "Position of word is: 2\n"
     ]
    }
   ],
   "source": [
    "word_list=a1.split()\n",
    "short_word=min(word_list, key=len)\n",
    "pos=a1.index(short_word)\n",
    "print(\"Shortest word is:\", short_word)\n",
    "print(\"Position of word is:\", pos)"
   ]
  },
  {
   "cell_type": "markdown",
   "id": "84f86d5a",
   "metadata": {},
   "source": [
    "a1[]"
   ]
  },
  {
   "cell_type": "code",
   "execution_count": 31,
   "id": "4f700bde",
   "metadata": {},
   "outputs": [
    {
     "data": {
      "text/plain": [
       "'pasa timbus ot deen ew dna guA_ht02 fo tnemngissA wen si sihT'"
      ]
     },
     "execution_count": 31,
     "metadata": {},
     "output_type": "execute_result"
    }
   ],
   "source": [
    "a1[::-1]"
   ]
  },
  {
   "cell_type": "code",
   "execution_count": 32,
   "id": "921eb48d",
   "metadata": {},
   "outputs": [
    {
     "data": {
      "text/plain": [
       "False"
      ]
     },
     "execution_count": 32,
     "metadata": {},
     "output_type": "execute_result"
    }
   ],
   "source": [
    "a1.isalnum()"
   ]
  },
  {
   "cell_type": "code",
   "execution_count": 33,
   "id": "abf36d67",
   "metadata": {},
   "outputs": [
    {
     "data": {
      "text/plain": [
       "'This is new Assignment of 20th_Aug and we need to submit asap'"
      ]
     },
     "execution_count": 33,
     "metadata": {},
     "output_type": "execute_result"
    }
   ],
   "source": [
    "a1"
   ]
  },
  {
   "cell_type": "code",
   "execution_count": 34,
   "id": "7c8bc710",
   "metadata": {},
   "outputs": [
    {
     "data": {
      "text/plain": [
       "False"
      ]
     },
     "execution_count": 34,
     "metadata": {},
     "output_type": "execute_result"
    }
   ],
   "source": [
    "a1.isalnum()"
   ]
  },
  {
   "cell_type": "code",
   "execution_count": 35,
   "id": "60bac0cb",
   "metadata": {},
   "outputs": [
    {
     "data": {
      "text/plain": [
       "False"
      ]
     },
     "execution_count": 35,
     "metadata": {},
     "output_type": "execute_result"
    }
   ],
   "source": [
    "a.isalnum()"
   ]
  },
  {
   "cell_type": "code",
   "execution_count": 36,
   "id": "db07bc89",
   "metadata": {},
   "outputs": [
    {
     "name": "stdout",
     "output_type": "stream",
     "text": [
      "[20]\n"
     ]
    }
   ],
   "source": [
    "#extract numbers from a string\n",
    "import re\n",
    "numbers = [int(num) for num in re.findall(r'\\d+', a1)]\n",
    "print(numbers)"
   ]
  },
  {
   "cell_type": "code",
   "execution_count": 37,
   "id": "542d8ae2",
   "metadata": {},
   "outputs": [
    {
     "name": "stdout",
     "output_type": "stream",
     "text": [
      "ThisisnewAssignmentofthAugandweneedtosubmitasap\n"
     ]
    }
   ],
   "source": [
    "import re\n",
    "res=re.sub(r'[^a-zA-Z]','',a1)\n",
    "print(res)"
   ]
  },
  {
   "cell_type": "code",
   "execution_count": 38,
   "id": "fa19b27d",
   "metadata": {},
   "outputs": [
    {
     "name": "stdout",
     "output_type": "stream",
     "text": [
      "The number of capital letters found in the string is: 3\n"
     ]
    }
   ],
   "source": [
    "#Count the number of uppercase letters in a string\n",
    "count=0\n",
    "for i in a1:\n",
    "    if i.isupper():\n",
    "        count=count+1\n",
    "print(\"The number of capital letters found in the string is:\",count)\n"
   ]
  },
  {
   "cell_type": "code",
   "execution_count": 39,
   "id": "b717926c",
   "metadata": {},
   "outputs": [
    {
     "name": "stdout",
     "output_type": "stream",
     "text": [
      "The number of lower letters found in the string is: 44\n"
     ]
    }
   ],
   "source": [
    "#Count the number of lowercase letters in a string\n",
    "count=0\n",
    "for i in a1:\n",
    "    if i.islower():\n",
    "        count=count+1\n",
    "print(\"The number of lower letters found in the string is:\",count)\n"
   ]
  },
  {
   "cell_type": "code",
   "execution_count": 40,
   "id": "8055d0fb",
   "metadata": {},
   "outputs": [
    {
     "name": "stdout",
     "output_type": "stream",
     "text": [
      "i AM pETER pARKER\n"
     ]
    }
   ],
   "source": [
    "#Swap the case of each character in a string\n",
    "txt='I am Peter Parker'\n",
    "x=txt.swapcase()\n",
    "print(x)"
   ]
  },
  {
   "cell_type": "code",
   "execution_count": 41,
   "id": "cbc177f7",
   "metadata": {},
   "outputs": [],
   "source": [
    "a2='This is PWskills'"
   ]
  },
  {
   "cell_type": "code",
   "execution_count": 42,
   "id": "ec01f9a0",
   "metadata": {},
   "outputs": [
    {
     "data": {
      "text/plain": [
       "'Th  PWskills'"
      ]
     },
     "execution_count": 42,
     "metadata": {},
     "output_type": "execute_result"
    }
   ],
   "source": [
    "a2.replace(\"is\",\"\")"
   ]
  },
  {
   "cell_type": "code",
   "execution_count": 43,
   "id": "4a5d2206",
   "metadata": {},
   "outputs": [
    {
     "data": {
      "text/plain": [
       "'This is new Assignment of 20th_Aug and we need to submit asap'"
      ]
     },
     "execution_count": 43,
     "metadata": {},
     "output_type": "execute_result"
    }
   ],
   "source": [
    "a1"
   ]
  },
  {
   "cell_type": "code",
   "execution_count": 44,
   "id": "1fd9d30d",
   "metadata": {},
   "outputs": [],
   "source": [
    "a2=a1.replace(\"20th_Aug\",\"\")"
   ]
  },
  {
   "cell_type": "code",
   "execution_count": 45,
   "id": "e24bcc10",
   "metadata": {},
   "outputs": [
    {
     "data": {
      "text/plain": [
       "'This is new Assignment of  and we need to submit asap'"
      ]
     },
     "execution_count": 45,
     "metadata": {},
     "output_type": "execute_result"
    }
   ],
   "source": [
    "a2"
   ]
  },
  {
   "cell_type": "code",
   "execution_count": 46,
   "id": "5686eebe",
   "metadata": {},
   "outputs": [
    {
     "ename": "ModuleNotFoundError",
     "evalue": "No module named 'validate_email'",
     "output_type": "error",
     "traceback": [
      "\u001b[1;31m---------------------------------------------------------------------------\u001b[0m",
      "\u001b[1;31mModuleNotFoundError\u001b[0m                       Traceback (most recent call last)",
      "Cell \u001b[1;32mIn[46], line 1\u001b[0m\n\u001b[1;32m----> 1\u001b[0m \u001b[38;5;28;01mfrom\u001b[39;00m \u001b[38;5;21;01mvalidate_email\u001b[39;00m \u001b[38;5;28;01mimport\u001b[39;00m validate_email\n\u001b[0;32m      2\u001b[0m email\u001b[38;5;241m=\u001b[39m\u001b[38;5;124m'\u001b[39m\u001b[38;5;124mkaran.rwt91@gmail.com\u001b[39m\u001b[38;5;124m'\u001b[39m\n\u001b[0;32m      3\u001b[0m is_valid\u001b[38;5;241m=\u001b[39mvalidate_email(email)\n",
      "\u001b[1;31mModuleNotFoundError\u001b[0m: No module named 'validate_email'"
     ]
    }
   ],
   "source": [
    "from validate_email import validate_email\n",
    "email='karan.rwt91@gmail.com'\n",
    "is_valid=validate_email(email)\n",
    "if is_valid:\n",
    "    print(\"Email address is valid\")\n",
    "else:\n",
    "    print(\"Email address is not valid\")"
   ]
  },
  {
   "cell_type": "markdown",
   "id": "ef627084",
   "metadata": {},
   "source": []
  },
  {
   "cell_type": "code",
   "execution_count": null,
   "id": "29edc244",
   "metadata": {},
   "outputs": [],
   "source": [
    "a2"
   ]
  },
  {
   "cell_type": "code",
   "execution_count": 47,
   "id": "e7af0953",
   "metadata": {},
   "outputs": [],
   "source": [
    "a3='    Karan    Singh    Rawat    '"
   ]
  },
  {
   "cell_type": "code",
   "execution_count": 48,
   "id": "2163d9b2",
   "metadata": {},
   "outputs": [
    {
     "data": {
      "text/plain": [
       "'    Karan    Singh    Rawat    '"
      ]
     },
     "execution_count": 48,
     "metadata": {},
     "output_type": "execute_result"
    }
   ],
   "source": [
    "a3"
   ]
  },
  {
   "cell_type": "code",
   "execution_count": 49,
   "id": "6d950778",
   "metadata": {},
   "outputs": [
    {
     "data": {
      "text/plain": [
       "' Karan Singh Rawat '"
      ]
     },
     "execution_count": 49,
     "metadata": {},
     "output_type": "execute_result"
    }
   ],
   "source": [
    "a3.replace(\"    \",\" \")"
   ]
  },
  {
   "cell_type": "code",
   "execution_count": 50,
   "id": "667d5351",
   "metadata": {},
   "outputs": [
    {
     "ename": "ModuleNotFoundError",
     "evalue": "No module named 'validators'",
     "output_type": "error",
     "traceback": [
      "\u001b[1;31m---------------------------------------------------------------------------\u001b[0m",
      "\u001b[1;31mModuleNotFoundError\u001b[0m                       Traceback (most recent call last)",
      "Cell \u001b[1;32mIn[50], line 1\u001b[0m\n\u001b[1;32m----> 1\u001b[0m \u001b[38;5;28;01mimport\u001b[39;00m \u001b[38;5;21;01mvalidators\u001b[39;00m\n\u001b[0;32m      2\u001b[0m valid\u001b[38;5;241m=\u001b[39mvalidators\u001b[38;5;241m.\u001b[39murl(\u001b[38;5;124m'\u001b[39m\u001b[38;5;124mhttps://www.w3schools.com/\u001b[39m\u001b[38;5;124m'\u001b[39m)\n\u001b[0;32m      3\u001b[0m \u001b[38;5;28;01mif\u001b[39;00m valid\u001b[38;5;241m==\u001b[39m\u001b[38;5;28;01mTrue\u001b[39;00m:\n",
      "\u001b[1;31mModuleNotFoundError\u001b[0m: No module named 'validators'"
     ]
    }
   ],
   "source": [
    "import validators\n",
    "valid=validators.url('https://www.w3schools.com/')\n",
    "if valid==True:\n",
    "    print('This URL is valid')\n",
    "else:\n",
    "        print('This URL is invalid')"
   ]
  },
  {
   "cell_type": "code",
   "execution_count": 51,
   "id": "56280f61",
   "metadata": {},
   "outputs": [
    {
     "ename": "ModuleNotFoundError",
     "evalue": "No module named 'validators'",
     "output_type": "error",
     "traceback": [
      "\u001b[1;31m---------------------------------------------------------------------------\u001b[0m",
      "\u001b[1;31mModuleNotFoundError\u001b[0m                       Traceback (most recent call last)",
      "Cell \u001b[1;32mIn[51], line 1\u001b[0m\n\u001b[1;32m----> 1\u001b[0m \u001b[38;5;28;01mimport\u001b[39;00m \u001b[38;5;21;01mvalidators\u001b[39;00m\n\u001b[0;32m      2\u001b[0m string\u001b[38;5;241m=\u001b[39m(\u001b[38;5;124m'\u001b[39m\u001b[38;5;124mhttps://www.w3schools.com/\u001b[39m\u001b[38;5;124m'\u001b[39m)\n\u001b[0;32m      3\u001b[0m \u001b[38;5;28;01mif\u001b[39;00m validators\u001b[38;5;241m.\u001b[39murl(string) \u001b[38;5;129;01mis\u001b[39;00m \u001b[38;5;28;01mTrue\u001b[39;00m:\n",
      "\u001b[1;31mModuleNotFoundError\u001b[0m: No module named 'validators'"
     ]
    }
   ],
   "source": [
    "import validators\n",
    "string=('https://www.w3schools.com/')\n",
    "if validators.url(string) is True:\n",
    "    print('This is valid URL')"
   ]
  },
  {
   "cell_type": "code",
   "execution_count": 52,
   "id": "bc6d9f4a",
   "metadata": {},
   "outputs": [
    {
     "name": "stdout",
     "output_type": "stream",
     "text": [
      "e: 2, "
     ]
    }
   ],
   "source": [
    "string='hello world life'\n",
    "for i in string:\n",
    "    frequency=string.count(i)\n",
    "print(str(i) + \": \" + str(frequency), end=\", \")"
   ]
  },
  {
   "cell_type": "code",
   "execution_count": 53,
   "id": "ab10fbdf",
   "metadata": {},
   "outputs": [
    {
     "name": "stdout",
     "output_type": "stream",
     "text": [
      "hi what is the weather like\n"
     ]
    }
   ],
   "source": [
    "import string\n",
    "a3 = '!hi. wh?at is the weat[h]er lik?e.'\n",
    "a4= a3.translate(str.maketrans('','',string.punctuation))\n",
    "print(a4)"
   ]
  },
  {
   "cell_type": "code",
   "execution_count": 54,
   "id": "14b1f8b8",
   "metadata": {},
   "outputs": [
    {
     "data": {
      "text/plain": [
       "False"
      ]
     },
     "execution_count": 54,
     "metadata": {},
     "output_type": "execute_result"
    }
   ],
   "source": [
    "a2.isnumeric()"
   ]
  },
  {
   "cell_type": "code",
   "execution_count": 55,
   "id": "6aaa6f04",
   "metadata": {},
   "outputs": [],
   "source": [
    "new_a2=\"assingment need to submit of Aug 20\""
   ]
  },
  {
   "cell_type": "code",
   "execution_count": 56,
   "id": "541e64dc",
   "metadata": {},
   "outputs": [
    {
     "data": {
      "text/plain": [
       "False"
      ]
     },
     "execution_count": 56,
     "metadata": {},
     "output_type": "execute_result"
    }
   ],
   "source": [
    "new_a2.isnumeric()"
   ]
  },
  {
   "cell_type": "code",
   "execution_count": 57,
   "id": "72d61f43",
   "metadata": {},
   "outputs": [
    {
     "data": {
      "text/plain": [
       "False"
      ]
     },
     "execution_count": 57,
     "metadata": {},
     "output_type": "execute_result"
    }
   ],
   "source": [
    "new_a2.isalpha()"
   ]
  },
  {
   "cell_type": "code",
   "execution_count": 58,
   "id": "9ffcb147",
   "metadata": {},
   "outputs": [
    {
     "name": "stdout",
     "output_type": "stream",
     "text": [
      "['K', 'a', 'r', 'a', 'n', ' ', 'p', 'a', 'h', 'a', 'd', 'i']\n"
     ]
    }
   ],
   "source": [
    "string='Karan pahadi'\n",
    "print([*string])"
   ]
  },
  {
   "cell_type": "code",
   "execution_count": 59,
   "id": "531af3df",
   "metadata": {},
   "outputs": [
    {
     "name": "stdout",
     "output_type": "stream",
     "text": [
      "raceandcareare anagrams.\n"
     ]
    }
   ],
   "source": [
    "str1='race'\n",
    "str2='care'\n",
    "sorted_str1 = sorted(str1)\n",
    "sorted_str2 = sorted(str2)\n",
    "if (sorted_str1 == sorted_str2):\n",
    "    print(str1 +  \"and\"  +  str2  +  \"are anagrams.\")\n",
    "else:\n",
    "    print(str1 +  \"and\"  +  str2  +  \"are not anagrams.\")\n",
    "    "
   ]
  },
  {
   "cell_type": "code",
   "execution_count": 60,
   "id": "2aeb1513",
   "metadata": {},
   "outputs": [
    {
     "name": "stdout",
     "output_type": "stream",
     "text": [
      "The list is :\n",
      "['python is best for coders', 'python is fun', 'python is easy to learn']\n",
      "The word that has the maximum frequency :\n",
      "python\n"
     ]
    }
   ],
   "source": [
    "from collections import defaultdict\n",
    "my_list = [\"python is best for coders\", \"python is fun\", \"python is easy to learn\"]\n",
    "\n",
    "print(\"The list is :\")\n",
    "print(my_list)\n",
    "\n",
    "my_temp = defaultdict(int)\n",
    "\n",
    "for sub in my_list:\n",
    "   for word in sub.split():\n",
    "      my_temp[word] += 1\n",
    "\n",
    "result = max(my_temp, key=my_temp.get)\n",
    "\n",
    "print(\"The word that has the maximum frequency :\")\n",
    "print(result)"
   ]
  },
  {
   "cell_type": "code",
   "execution_count": 61,
   "id": "51641d51",
   "metadata": {},
   "outputs": [
    {
     "name": "stdout",
     "output_type": "stream",
     "text": [
      "{'Python', 'Java', 'lang', 'good', 'and', 'is', 'also'}\n",
      "7\n"
     ]
    }
   ],
   "source": [
    "my_str = 'Java is good lang and Python is also good lang'\n",
    "\n",
    "unique_words = set(my_str.split())\n",
    "print(unique_words)\n",
    "\n",
    "length = len(unique_words)\n",
    "print(length)"
   ]
  },
  {
   "cell_type": "code",
   "execution_count": 62,
   "id": "7854c2cb",
   "metadata": {},
   "outputs": [
    {
     "name": "stdout",
     "output_type": "stream",
     "text": [
      "2\n"
     ]
    }
   ],
   "source": [
    "def count(word):\n",
    "    new_word = word\n",
    "    count_syllables = new_word.split('-')\n",
    "    return len(count_syllables)\n",
    "print(count(\"ho-tel\"))\n"
   ]
  },
  {
   "cell_type": "code",
   "execution_count": 63,
   "id": "026d305f",
   "metadata": {},
   "outputs": [
    {
     "name": "stdout",
     "output_type": "stream",
     "text": [
      "Hello15@*+-\n",
      "string is accepted\n"
     ]
    }
   ],
   "source": [
    "import re\n",
    "\n",
    "def find(string):\n",
    "    special_char=re.compile('[@_!$%^&*()<>?/\\|}{~:]#')\n",
    "    \n",
    "    if special_char.search(string) == None:\n",
    "        return \"string is accepted\"\n",
    "    else:\n",
    "        return \"string not accpeted\"\n",
    "   \n",
    "\n",
    "s=\"Hello15@*+-\"\n",
    "print(s)\n",
    "print(find(s))\n"
   ]
  },
  {
   "cell_type": "code",
   "execution_count": 64,
   "id": "e3a00b58",
   "metadata": {},
   "outputs": [
    {
     "ename": "NameError",
     "evalue": "name 'raw_input' is not defined",
     "output_type": "error",
     "traceback": [
      "\u001b[1;31m---------------------------------------------------------------------------\u001b[0m",
      "\u001b[1;31mNameError\u001b[0m                                 Traceback (most recent call last)",
      "Cell \u001b[1;32mIn[64], line 5\u001b[0m\n\u001b[0;32m      3\u001b[0m       last \u001b[38;5;241m=\u001b[39m string[n\u001b[38;5;241m+\u001b[39m\u001b[38;5;241m1\u001b[39m:]  \n\u001b[0;32m      4\u001b[0m       \u001b[38;5;28;01mreturn\u001b[39;00m first \u001b[38;5;241m+\u001b[39m last\n\u001b[1;32m----> 5\u001b[0m string\u001b[38;5;241m=\u001b[39mraw_input(\u001b[38;5;124m\"\u001b[39m\u001b[38;5;124mEnter the sring:\u001b[39m\u001b[38;5;124m\"\u001b[39m)\n\u001b[0;32m      6\u001b[0m n\u001b[38;5;241m=\u001b[39m\u001b[38;5;28mint\u001b[39m(\u001b[38;5;28minput\u001b[39m(\u001b[38;5;124m\"\u001b[39m\u001b[38;5;124mEnter the index of the character to remove:\u001b[39m\u001b[38;5;124m\"\u001b[39m))\n\u001b[0;32m      7\u001b[0m \u001b[38;5;28mprint\u001b[39m(\u001b[38;5;124m\"\u001b[39m\u001b[38;5;124mModified string:\u001b[39m\u001b[38;5;124m\"\u001b[39m)\n",
      "\u001b[1;31mNameError\u001b[0m: name 'raw_input' is not defined"
     ]
    }
   ],
   "source": [
    "def remove(string, n):  \n",
    "      first = string[:n]   \n",
    "      last = string[n+1:]  \n",
    "      return first + last\n",
    "string=raw_input(\"Enter the sring:\")\n",
    "n=int(input(\"Enter the index of the character to remove:\"))\n",
    "print(\"Modified string:\")\n",
    "print(remove(string, n))\n"
   ]
  },
  {
   "cell_type": "code",
   "execution_count": 65,
   "id": "8ccd4802",
   "metadata": {},
   "outputs": [
    {
     "name": "stdout",
     "output_type": "stream",
     "text": [
      "Enter a String =Karan\n",
      "Enter the n-th index =2\n",
      "The new string =\n",
      "\n",
      "Kaan\n"
     ]
    }
   ],
   "source": [
    "def removechar(str1, n):\n",
    "\tx = str1[ : n]\n",
    "\ty = str1[n + 1: ]\n",
    "\treturn x + y\n",
    "\n",
    "# Driver Code\n",
    "if __name__ == '__main__':\n",
    "\tstr1 = input(\"Enter a String =\")\n",
    "\tn = int(input(\"Enter the n-th index =\"))\n",
    "\n",
    "print(\"The new string =\\n\")\n",
    "print(removechar(str1, n))"
   ]
  },
  {
   "cell_type": "code",
   "execution_count": 66,
   "id": "4e8664b4",
   "metadata": {},
   "outputs": [],
   "source": [
    "l1=[1,2,3,4,5,6,7,8,9,10]"
   ]
  },
  {
   "cell_type": "code",
   "execution_count": 67,
   "id": "d3b10ee2",
   "metadata": {},
   "outputs": [
    {
     "data": {
      "text/plain": [
       "list"
      ]
     },
     "execution_count": 67,
     "metadata": {},
     "output_type": "execute_result"
    }
   ],
   "source": [
    "type(l1)"
   ]
  },
  {
   "cell_type": "code",
   "execution_count": 68,
   "id": "2611727c",
   "metadata": {},
   "outputs": [
    {
     "name": "stdout",
     "output_type": "stream",
     "text": [
      "5\n"
     ]
    }
   ],
   "source": [
    "string = 'Hello'\n",
    "\n",
    "count = 0\n",
    "\n",
    "for i in string:\n",
    " \n",
    "    count+=1\n",
    "print(count)\n"
   ]
  },
  {
   "cell_type": "code",
   "execution_count": 69,
   "id": "5ad507f1",
   "metadata": {},
   "outputs": [],
   "source": [
    "l1.append(11)"
   ]
  },
  {
   "cell_type": "code",
   "execution_count": 70,
   "id": "ca2f2b87",
   "metadata": {},
   "outputs": [
    {
     "data": {
      "text/plain": [
       "[1, 2, 3, 4, 5, 6, 7, 8, 9, 10, 11]"
      ]
     },
     "execution_count": 70,
     "metadata": {},
     "output_type": "execute_result"
    }
   ],
   "source": [
    "l1"
   ]
  },
  {
   "cell_type": "code",
   "execution_count": 71,
   "id": "676e3fbf",
   "metadata": {},
   "outputs": [],
   "source": [
    "l1.insert(4,21)"
   ]
  },
  {
   "cell_type": "markdown",
   "id": "b3ffe8de",
   "metadata": {},
   "source": [
    "# "
   ]
  },
  {
   "cell_type": "code",
   "execution_count": 72,
   "id": "5d8588d3",
   "metadata": {},
   "outputs": [
    {
     "data": {
      "text/plain": [
       "[1, 2, 3, 4, 21, 5, 6, 7, 8, 9, 10, 11]"
      ]
     },
     "execution_count": 72,
     "metadata": {},
     "output_type": "execute_result"
    }
   ],
   "source": [
    "l1"
   ]
  },
  {
   "cell_type": "code",
   "execution_count": 73,
   "id": "c85f2b55",
   "metadata": {},
   "outputs": [],
   "source": [
    "l1.remove(7)\n",
    "#Removing an element from a list by its value"
   ]
  },
  {
   "cell_type": "code",
   "execution_count": 74,
   "id": "674e7470",
   "metadata": {},
   "outputs": [
    {
     "data": {
      "text/plain": [
       "[1, 2, 3, 4, 21, 5, 6, 8, 9, 10, 11]"
      ]
     },
     "execution_count": 74,
     "metadata": {},
     "output_type": "execute_result"
    }
   ],
   "source": [
    "l1"
   ]
  },
  {
   "cell_type": "markdown",
   "id": "2269e308",
   "metadata": {},
   "source": [
    "# "
   ]
  },
  {
   "cell_type": "code",
   "execution_count": 75,
   "id": "f194a2dc",
   "metadata": {},
   "outputs": [],
   "source": [
    "del l1[1]\n",
    "#Remove an element from a list by its index."
   ]
  },
  {
   "cell_type": "markdown",
   "id": "f753bb8d",
   "metadata": {},
   "source": [
    "# "
   ]
  },
  {
   "cell_type": "code",
   "execution_count": 76,
   "id": "ebe0f8b7",
   "metadata": {},
   "outputs": [
    {
     "data": {
      "text/plain": [
       "[1, 3, 4, 21, 5, 6, 8, 9, 10, 11]"
      ]
     },
     "execution_count": 76,
     "metadata": {},
     "output_type": "execute_result"
    }
   ],
   "source": [
    "l1"
   ]
  },
  {
   "cell_type": "code",
   "execution_count": 77,
   "id": "b95643de",
   "metadata": {},
   "outputs": [
    {
     "name": "stdout",
     "output_type": "stream",
     "text": [
      "its exist\n"
     ]
    }
   ],
   "source": [
    "l2=[1,2,3,4,5,6,7]\n",
    "i=7\n",
    "if i in l2:\n",
    "    print('its exist')\n",
    "else:\n",
    "        print('its doesnt exist')\n",
    "#Check if an element exists in a list"
   ]
  },
  {
   "cell_type": "code",
   "execution_count": 78,
   "id": "610db502",
   "metadata": {},
   "outputs": [
    {
     "data": {
      "text/plain": [
       "[1, 2, 3, 4, 5, 6, 7]"
      ]
     },
     "execution_count": 78,
     "metadata": {},
     "output_type": "execute_result"
    }
   ],
   "source": [
    "l2"
   ]
  },
  {
   "cell_type": "code",
   "execution_count": 79,
   "id": "7a906deb",
   "metadata": {},
   "outputs": [
    {
     "data": {
      "text/plain": [
       "1"
      ]
     },
     "execution_count": 79,
     "metadata": {},
     "output_type": "execute_result"
    }
   ],
   "source": [
    "l2[0]\n"
   ]
  },
  {
   "cell_type": "code",
   "execution_count": 80,
   "id": "a420ccf4",
   "metadata": {},
   "outputs": [
    {
     "data": {
      "text/plain": [
       "1"
      ]
     },
     "execution_count": 80,
     "metadata": {},
     "output_type": "execute_result"
    }
   ],
   "source": [
    "l2.count(2)"
   ]
  },
  {
   "cell_type": "code",
   "execution_count": 81,
   "id": "225de56e",
   "metadata": {},
   "outputs": [],
   "source": [
    "l3=[1,2,2,2,4,5,6,2,3,7,7,5]"
   ]
  },
  {
   "cell_type": "code",
   "execution_count": 82,
   "id": "3f391fb1",
   "metadata": {},
   "outputs": [
    {
     "data": {
      "text/plain": [
       "2"
      ]
     },
     "execution_count": 82,
     "metadata": {},
     "output_type": "execute_result"
    }
   ],
   "source": [
    "l3.count(5)\n",
    "#Count the occurrences of an element in a list"
   ]
  },
  {
   "cell_type": "code",
   "execution_count": 83,
   "id": "758c5b4e",
   "metadata": {},
   "outputs": [],
   "source": [
    "l2.reverse()"
   ]
  },
  {
   "cell_type": "code",
   "execution_count": 84,
   "id": "cb4f88c0",
   "metadata": {},
   "outputs": [
    {
     "data": {
      "text/plain": [
       "[7, 6, 5, 4, 3, 2, 1]"
      ]
     },
     "execution_count": 84,
     "metadata": {},
     "output_type": "execute_result"
    }
   ],
   "source": [
    "l2\n",
    "#Reverse the order of elements in a list"
   ]
  },
  {
   "cell_type": "code",
   "execution_count": 85,
   "id": "c3c04926",
   "metadata": {},
   "outputs": [],
   "source": [
    "l3.sort()\n",
    "#Sort a list in ascending order"
   ]
  },
  {
   "cell_type": "code",
   "execution_count": 86,
   "id": "387201c7",
   "metadata": {},
   "outputs": [
    {
     "data": {
      "text/plain": [
       "[1, 2, 2, 2, 2, 3, 4, 5, 5, 6, 7, 7]"
      ]
     },
     "execution_count": 86,
     "metadata": {},
     "output_type": "execute_result"
    }
   ],
   "source": [
    "l3"
   ]
  },
  {
   "cell_type": "code",
   "execution_count": 87,
   "id": "0e4dde05",
   "metadata": {},
   "outputs": [
    {
     "name": "stdout",
     "output_type": "stream",
     "text": [
      "[7, 7, 6, 5, 5, 4, 3, 2, 2, 2, 2, 1]\n"
     ]
    }
   ],
   "source": [
    "l3.sort(reverse=True)\n",
    "print(l3)\n",
    "#Sort a list in descending order."
   ]
  },
  {
   "cell_type": "code",
   "execution_count": 88,
   "id": "718962e4",
   "metadata": {},
   "outputs": [
    {
     "name": "stdout",
     "output_type": "stream",
     "text": [
      "0 2 4 6 8 10 12 14 16 18 "
     ]
    }
   ],
   "source": [
    "for i in range(0,20):\n",
    "    if i%2==0:\n",
    "        print(i, end=' ')"
   ]
  },
  {
   "cell_type": "code",
   "execution_count": 89,
   "id": "eaf907c5",
   "metadata": {},
   "outputs": [
    {
     "name": "stdout",
     "output_type": "stream",
     "text": [
      "1 3 5 7 9 11 13 15 17 19 "
     ]
    }
   ],
   "source": [
    "for i in range(0,20):\n",
    "    if i%2!=0:\n",
    "        print(i, end=' ')"
   ]
  },
  {
   "cell_type": "code",
   "execution_count": 90,
   "id": "661d3a28",
   "metadata": {},
   "outputs": [
    {
     "name": "stdout",
     "output_type": "stream",
     "text": [
      "36\n"
     ]
    }
   ],
   "source": [
    "number=[1,2,3,5,4,8,6,7]\n",
    "sum=sum(number)\n",
    "print(sum)"
   ]
  },
  {
   "cell_type": "code",
   "execution_count": 91,
   "id": "04e4c12a",
   "metadata": {},
   "outputs": [
    {
     "name": "stdout",
     "output_type": "stream",
     "text": [
      "Maximum value is: 8\n"
     ]
    }
   ],
   "source": [
    "print('Maximum value is:' , max(number))"
   ]
  },
  {
   "cell_type": "code",
   "execution_count": 92,
   "id": "65f7ab6d",
   "metadata": {},
   "outputs": [
    {
     "name": "stdout",
     "output_type": "stream",
     "text": [
      "Minimum value is: 1\n"
     ]
    }
   ],
   "source": [
    "print('Minimum value is:' , min(number))\n",
    "#Find the minimum value in a list"
   ]
  },
  {
   "cell_type": "code",
   "execution_count": 93,
   "id": "70cbe9a3",
   "metadata": {},
   "outputs": [
    {
     "name": "stdout",
     "output_type": "stream",
     "text": [
      "list of square number from 1 to 10\n",
      "[1]\n",
      "list of square number from 1 to 10\n",
      "[1, 4]\n",
      "list of square number from 1 to 10\n",
      "[1, 4, 9]\n",
      "list of square number from 1 to 10\n",
      "[1, 4, 9, 16]\n",
      "list of square number from 1 to 10\n",
      "[1, 4, 9, 16, 25]\n",
      "list of square number from 1 to 10\n",
      "[1, 4, 9, 16, 25, 36]\n",
      "list of square number from 1 to 10\n",
      "[1, 4, 9, 16, 25, 36, 49]\n",
      "list of square number from 1 to 10\n",
      "[1, 4, 9, 16, 25, 36, 49, 64]\n",
      "list of square number from 1 to 10\n",
      "[1, 4, 9, 16, 25, 36, 49, 64, 81]\n",
      "list of square number from 1 to 10\n",
      "[1, 4, 9, 16, 25, 36, 49, 64, 81, 100]\n"
     ]
    }
   ],
   "source": [
    "l=[]\n",
    "for i in range(1,11):\n",
    "    l.append(i*i)\n",
    "    print(\"list of square number from 1 to 10\")\n",
    "    print(l)"
   ]
  },
  {
   "cell_type": "code",
   "execution_count": 94,
   "id": "1899e6fa",
   "metadata": {},
   "outputs": [
    {
     "name": "stdout",
     "output_type": "stream",
     "text": [
      "[10]\n",
      "[10, 3]\n",
      "[10, 3, 17]\n",
      "[10, 3, 17, 6]\n",
      "[10, 3, 17, 6, 11]\n"
     ]
    }
   ],
   "source": [
    "import random\n",
    "randomlist = []\n",
    "for i in range(0,5):\n",
    "    n = random.randint(1,30)\n",
    "    randomlist.append(n)\n",
    "    print(randomlist)\n",
    "#Create a list of random numbers"
   ]
  },
  {
   "cell_type": "code",
   "execution_count": 95,
   "id": "aa1ea4f3",
   "metadata": {},
   "outputs": [
    {
     "name": "stdout",
     "output_type": "stream",
     "text": [
      "[7, 6, 5, 4, 3, 2, 1]\n"
     ]
    }
   ],
   "source": [
    "#Remove duplicates from a list\n",
    "l3=list(dict.fromkeys(l3))\n",
    "print(l3)"
   ]
  },
  {
   "cell_type": "code",
   "execution_count": 96,
   "id": "29fe6e8f",
   "metadata": {},
   "outputs": [
    {
     "data": {
      "text/plain": [
       "[7, 6, 5, 4, 3, 2, 1]"
      ]
     },
     "execution_count": 96,
     "metadata": {},
     "output_type": "execute_result"
    }
   ],
   "source": [
    "l2"
   ]
  },
  {
   "cell_type": "markdown",
   "id": "fb8432ad",
   "metadata": {},
   "source": [
    "### "
   ]
  },
  {
   "cell_type": "code",
   "execution_count": 97,
   "id": "461d870f",
   "metadata": {},
   "outputs": [
    {
     "data": {
      "text/plain": [
       "[7, 6, 5, 4, 3, 2, 1]"
      ]
     },
     "execution_count": 97,
     "metadata": {},
     "output_type": "execute_result"
    }
   ],
   "source": [
    "l3"
   ]
  },
  {
   "cell_type": "code",
   "execution_count": 98,
   "id": "2ecc2adf",
   "metadata": {},
   "outputs": [],
   "source": [
    "a1=[1,2,3,5]\n",
    "a2=[2,5,7,9]"
   ]
  },
  {
   "cell_type": "code",
   "execution_count": 99,
   "id": "9b0a02a4",
   "metadata": {},
   "outputs": [
    {
     "data": {
      "text/plain": [
       "[2, 5]"
      ]
     },
     "execution_count": 99,
     "metadata": {},
     "output_type": "execute_result"
    }
   ],
   "source": [
    "list(set(a1).intersection(a2))"
   ]
  },
  {
   "cell_type": "code",
   "execution_count": 100,
   "id": "82b2ae2a",
   "metadata": {},
   "outputs": [
    {
     "name": "stdout",
     "output_type": "stream",
     "text": [
      "[1, 3]\n"
     ]
    }
   ],
   "source": [
    "s = set(a2)\n",
    "temp3 = [x for x in a1 if x not in s]\n",
    "print(temp3)\n"
   ]
  },
  {
   "cell_type": "code",
   "execution_count": 101,
   "id": "a0a2b49c",
   "metadata": {},
   "outputs": [
    {
     "name": "stdout",
     "output_type": "stream",
     "text": [
      "[1, 2, 3, 5, 2, 5, 7, 9]\n"
     ]
    }
   ],
   "source": [
    "a3=a1+a2\n",
    "print(a3)"
   ]
  },
  {
   "cell_type": "markdown",
   "id": "c4d131e7",
   "metadata": {},
   "source": [
    "## "
   ]
  },
  {
   "cell_type": "code",
   "execution_count": 102,
   "id": "7a2cd72c",
   "metadata": {},
   "outputs": [
    {
     "name": "stdout",
     "output_type": "stream",
     "text": [
      "[1, 2, 3, 5, 1, 2, 3, 5]\n"
     ]
    }
   ],
   "source": [
    "a3=a1*2\n",
    "print(a3)"
   ]
  },
  {
   "cell_type": "code",
   "execution_count": 103,
   "id": "520df419",
   "metadata": {},
   "outputs": [
    {
     "name": "stdout",
     "output_type": "stream",
     "text": [
      "[2, 4, 6, 10, 2, 4, 6, 10]\n"
     ]
    }
   ],
   "source": [
    "a3=[i*2 for i in a3]\n",
    "print(a3)"
   ]
  },
  {
   "cell_type": "code",
   "execution_count": 104,
   "id": "0fc50ac4",
   "metadata": {},
   "outputs": [
    {
     "data": {
      "text/plain": [
       "[1, 2, 3, 5]"
      ]
     },
     "execution_count": 104,
     "metadata": {},
     "output_type": "execute_result"
    }
   ],
   "source": [
    "a1"
   ]
  },
  {
   "cell_type": "code",
   "execution_count": 105,
   "id": "efc7ec74",
   "metadata": {},
   "outputs": [
    {
     "name": "stdout",
     "output_type": "stream",
     "text": [
      "[2, 4, 6, 10]\n"
     ]
    }
   ],
   "source": [
    "a3=[i*2 for i in a1]\n",
    "print(a3)"
   ]
  },
  {
   "cell_type": "code",
   "execution_count": 106,
   "id": "0633fa8e",
   "metadata": {},
   "outputs": [
    {
     "data": {
      "text/plain": [
       "[2, 4, 6, 10]"
      ]
     },
     "execution_count": 106,
     "metadata": {},
     "output_type": "execute_result"
    }
   ],
   "source": [
    "a3"
   ]
  },
  {
   "cell_type": "code",
   "execution_count": 107,
   "id": "68677cf5",
   "metadata": {},
   "outputs": [
    {
     "data": {
      "text/plain": [
       "[2, 5, 7, 9]"
      ]
     },
     "execution_count": 107,
     "metadata": {},
     "output_type": "execute_result"
    }
   ],
   "source": [
    "a2"
   ]
  },
  {
   "cell_type": "code",
   "execution_count": 108,
   "id": "b722c8c4",
   "metadata": {},
   "outputs": [
    {
     "data": {
      "text/plain": [
       "[2, 4, 6, 10]"
      ]
     },
     "execution_count": 108,
     "metadata": {},
     "output_type": "execute_result"
    }
   ],
   "source": [
    "a3"
   ]
  },
  {
   "cell_type": "code",
   "execution_count": 109,
   "id": "2fd0a107",
   "metadata": {},
   "outputs": [
    {
     "name": "stdout",
     "output_type": "stream",
     "text": [
      "[4, 10, 14, 18]\n"
     ]
    }
   ],
   "source": [
    "a4=[i*2 for i in a2]\n",
    "print(a4)"
   ]
  },
  {
   "cell_type": "code",
   "execution_count": 110,
   "id": "fb860562",
   "metadata": {},
   "outputs": [
    {
     "data": {
      "text/plain": [
       "[2, 5, 7, 9]"
      ]
     },
     "execution_count": 110,
     "metadata": {},
     "output_type": "execute_result"
    }
   ],
   "source": [
    "a2"
   ]
  },
  {
   "cell_type": "code",
   "execution_count": 111,
   "id": "f14c2bdd",
   "metadata": {},
   "outputs": [],
   "source": [
    "a2=[2,3,4,6,8,9]"
   ]
  },
  {
   "cell_type": "code",
   "execution_count": 112,
   "id": "13e0b7f0",
   "metadata": {},
   "outputs": [
    {
     "data": {
      "text/plain": [
       "[2, 3, 4, 6, 8, 9]"
      ]
     },
     "execution_count": 112,
     "metadata": {},
     "output_type": "execute_result"
    }
   ],
   "source": [
    "a2"
   ]
  },
  {
   "cell_type": "code",
   "execution_count": 113,
   "id": "152c2822",
   "metadata": {},
   "outputs": [
    {
     "name": "stdout",
     "output_type": "stream",
     "text": [
      "[2, 4, 6, 8]\n"
     ]
    }
   ],
   "source": [
    "li1=[i for i in a2 if i%2==0]\n",
    "print(li1)"
   ]
  },
  {
   "cell_type": "code",
   "execution_count": 114,
   "id": "8247d206",
   "metadata": {},
   "outputs": [
    {
     "name": "stdout",
     "output_type": "stream",
     "text": [
      "The new string with integers is: [1, 2, 3]\n"
     ]
    }
   ],
   "source": [
    "strlist=[1,2,3]\n",
    "intlist=[int(x) for x in strlist]\n",
    "print('The new string with integers is:', intlist)"
   ]
  },
  {
   "cell_type": "code",
   "execution_count": 115,
   "id": "bf2ad0e5",
   "metadata": {},
   "outputs": [
    {
     "name": "stdout",
     "output_type": "stream",
     "text": [
      "[1, 2, 3, 1, 4, 5, 2, 3, 9]\n"
     ]
    }
   ],
   "source": [
    "flat=[[1,2,3],[1,4,5],[2,3,9]]\n",
    "flat1=[num for sublist in flat for num in sublist]\n",
    "print(flat1)"
   ]
  },
  {
   "cell_type": "code",
   "execution_count": 116,
   "id": "8373657f",
   "metadata": {},
   "outputs": [
    {
     "name": "stdout",
     "output_type": "stream",
     "text": [
      "Fibonacci Series: 0 1 1 2 3 5 8 13 21 34 \n"
     ]
    }
   ],
   "source": [
    "num = 10\n",
    "n1, n2 = 0, 1\n",
    "print(\"Fibonacci Series:\", n1, n2, end=\" \")\n",
    "for i in range(2, num):\n",
    "    n3 = n1 + n2\n",
    "    n1 = n2\n",
    "    n2 = n3\n",
    "    print(n3, end=\" \")\n",
    "\n",
    "print()\n"
   ]
  },
  {
   "cell_type": "code",
   "execution_count": 117,
   "id": "6a9df4cb",
   "metadata": {},
   "outputs": [],
   "source": [
    "z=[1,2,3]"
   ]
  },
  {
   "cell_type": "code",
   "execution_count": 118,
   "id": "e92b9daf",
   "metadata": {},
   "outputs": [
    {
     "data": {
      "text/plain": [
       "[1, 2, 3]"
      ]
     },
     "execution_count": 118,
     "metadata": {},
     "output_type": "execute_result"
    }
   ],
   "source": [
    "z"
   ]
  },
  {
   "cell_type": "code",
   "execution_count": 119,
   "id": "c346f96c",
   "metadata": {},
   "outputs": [
    {
     "name": "stdout",
     "output_type": "stream",
     "text": [
      "True\n"
     ]
    }
   ],
   "source": [
    "if z.sort:\n",
    "    print(True)"
   ]
  },
  {
   "cell_type": "code",
   "execution_count": 120,
   "id": "552923c3",
   "metadata": {},
   "outputs": [
    {
     "name": "stdout",
     "output_type": "stream",
     "text": [
      "Original list:[1, 2, 3, 5, 6]\n",
      "Yes, List is sorted\n"
     ]
    }
   ],
   "source": [
    "test_list=[1,2,3,5,6]\n",
    "print('Original list:' + str(test_list))\n",
    "flag=0\n",
    "test_list1=test_list[:]\n",
    "test_list1.sort()\n",
    "if (test_list1==test_list):\n",
    "    flag=1\n",
    "if (flag):\n",
    "    print('Yes, List is sorted')\n",
    "else:\n",
    "    print('No, list is not sorted')"
   ]
  },
  {
   "cell_type": "code",
   "execution_count": 121,
   "id": "57b1bac3",
   "metadata": {},
   "outputs": [
    {
     "name": "stdout",
     "output_type": "stream",
     "text": [
      "Prime numbers between 0 and 50 are:\n",
      "2 3 5 7 11 13 17 19 23 29 31 37 41 43 47 "
     ]
    }
   ],
   "source": [
    "lower=0\n",
    "upper=50\n",
    "print('Prime numbers between', lower, 'and', upper, 'are:')\n",
    "for num in range(lower, upper +1):\n",
    "    if num>1:\n",
    "        for i in range(2, num):\n",
    "            if (num%i)==0:\n",
    "                break\n",
    "        else:\n",
    "            print(num, end=' ')\n"
   ]
  },
  {
   "cell_type": "code",
   "execution_count": 122,
   "id": "b8d1ed37",
   "metadata": {},
   "outputs": [
    {
     "data": {
      "text/plain": [
       "50"
      ]
     },
     "execution_count": 122,
     "metadata": {},
     "output_type": "execute_result"
    }
   ],
   "source": [
    "num"
   ]
  },
  {
   "cell_type": "code",
   "execution_count": 123,
   "id": "1b0bd0ba",
   "metadata": {},
   "outputs": [
    {
     "name": "stdout",
     "output_type": "stream",
     "text": [
      "Second largest element is:  15\n"
     ]
    }
   ],
   "source": [
    "l1=[10,2,15,20,4]\n",
    "l2=list(set(l1))\n",
    "l2.sort()\n",
    "print('Second largest element is: ', l2[-2])"
   ]
  },
  {
   "cell_type": "code",
   "execution_count": 124,
   "id": "0d598fc0",
   "metadata": {},
   "outputs": [
    {
     "name": "stdout",
     "output_type": "stream",
     "text": [
      "[100] [100, 4] [100, 4, 225] [100, 4, 225, 400] [100, 4, 225, 400, 16] "
     ]
    }
   ],
   "source": [
    "new=[]\n",
    "for number in l1:\n",
    "    new.append(number**2)\n",
    "    print(new, end=' ')"
   ]
  },
  {
   "cell_type": "code",
   "execution_count": 125,
   "id": "dacd1c89",
   "metadata": {},
   "outputs": [],
   "source": [
    "color=[('red',1), ('blue',2), ('green', 3)]"
   ]
  },
  {
   "cell_type": "code",
   "execution_count": 126,
   "id": "30b97aa7",
   "metadata": {},
   "outputs": [
    {
     "data": {
      "text/plain": [
       "list"
      ]
     },
     "execution_count": 126,
     "metadata": {},
     "output_type": "execute_result"
    }
   ],
   "source": [
    "type(color)"
   ]
  },
  {
   "cell_type": "code",
   "execution_count": 127,
   "id": "901dbdfd",
   "metadata": {},
   "outputs": [
    {
     "name": "stdout",
     "output_type": "stream",
     "text": [
      "{'red': 1, 'blue': 2, 'green': 3}\n"
     ]
    }
   ],
   "source": [
    "d=dict(color)\n",
    "print(d)"
   ]
  },
  {
   "cell_type": "code",
   "execution_count": 128,
   "id": "98769934",
   "metadata": {},
   "outputs": [
    {
     "data": {
      "text/plain": [
       "dict"
      ]
     },
     "execution_count": 128,
     "metadata": {},
     "output_type": "execute_result"
    }
   ],
   "source": [
    "type(d)"
   ]
  },
  {
   "cell_type": "code",
   "execution_count": 129,
   "id": "1f3c1dc4",
   "metadata": {},
   "outputs": [],
   "source": [
    "def factorial(n):\n",
    "    return 1 if( n==1 or n==0) else n*factorial(n-1)\n"
   ]
  },
  {
   "cell_type": "code",
   "execution_count": 130,
   "id": "becdd72b",
   "metadata": {},
   "outputs": [
    {
     "name": "stdout",
     "output_type": "stream",
     "text": [
      "Factorial of 10 is 3628800\n"
     ]
    }
   ],
   "source": [
    "num=10\n",
    "print('Factorial of', num, 'is', factorial(num))"
   ]
  },
  {
   "cell_type": "code",
   "execution_count": 131,
   "id": "802e38e7",
   "metadata": {},
   "outputs": [],
   "source": [
    "def common_element(lst1,lst2):\n",
    "    result=False\n",
    "    for x in lst1:\n",
    "        for y in lst2:\n",
    "            if x==y:\n",
    "                result=True\n",
    "                return result\n",
    "    return result"
   ]
  },
  {
   "cell_type": "code",
   "execution_count": 132,
   "id": "27094e22",
   "metadata": {},
   "outputs": [
    {
     "name": "stdout",
     "output_type": "stream",
     "text": [
      "True\n",
      "False\n"
     ]
    }
   ],
   "source": [
    "a=[1,2,3,4,6]\n",
    "b=[3,4,5,6,7]\n",
    "print(common_element(a,b))\n",
    "\n",
    "a=[1,2,3,4]\n",
    "b=[5,6,7,8]\n",
    "print(common_element(a,b))"
   ]
  },
  {
   "cell_type": "code",
   "execution_count": 133,
   "id": "42839b14",
   "metadata": {},
   "outputs": [
    {
     "data": {
      "text/plain": [
       "[7, 6, 5, 4, 3, 2, 1]"
      ]
     },
     "execution_count": 133,
     "metadata": {},
     "output_type": "execute_result"
    }
   ],
   "source": [
    "l3"
   ]
  },
  {
   "cell_type": "code",
   "execution_count": 134,
   "id": "d4b2de2e",
   "metadata": {},
   "outputs": [],
   "source": [
    "l3.clear()"
   ]
  },
  {
   "cell_type": "code",
   "execution_count": 135,
   "id": "41b1bd2e",
   "metadata": {},
   "outputs": [
    {
     "data": {
      "text/plain": [
       "[]"
      ]
     },
     "execution_count": 135,
     "metadata": {},
     "output_type": "execute_result"
    }
   ],
   "source": [
    "l3\n",
    "#Remove all elements from a list."
   ]
  },
  {
   "cell_type": "code",
   "execution_count": 136,
   "id": "9b10ae14",
   "metadata": {},
   "outputs": [],
   "source": [
    "list1=[-1,-2,3,4,5,-6]"
   ]
  },
  {
   "cell_type": "code",
   "execution_count": 137,
   "id": "4f9bdac6",
   "metadata": {},
   "outputs": [
    {
     "data": {
      "text/plain": [
       "[-1, -2, 3, 4, 5, -6]"
      ]
     },
     "execution_count": 137,
     "metadata": {},
     "output_type": "execute_result"
    }
   ],
   "source": [
    "list1"
   ]
  },
  {
   "cell_type": "code",
   "execution_count": 138,
   "id": "b8c2c4b0",
   "metadata": {},
   "outputs": [],
   "source": [
    "list2=[0 if i<0 else i for i in list1]"
   ]
  },
  {
   "cell_type": "code",
   "execution_count": 139,
   "id": "488f3c94",
   "metadata": {},
   "outputs": [
    {
     "data": {
      "text/plain": [
       "[0, 0, 3, 4, 5, 0]"
      ]
     },
     "execution_count": 139,
     "metadata": {},
     "output_type": "execute_result"
    }
   ],
   "source": [
    "list2"
   ]
  },
  {
   "cell_type": "code",
   "execution_count": 140,
   "id": "3a60e04e",
   "metadata": {},
   "outputs": [
    {
     "name": "stdout",
     "output_type": "stream",
     "text": [
      "['K', 'a', 'r', 'a', 'n', ' ', 'S', 'i', 'n', 'g', 'h', ' ', 'R', 'a', 'w', 'a', 't']\n"
     ]
    }
   ],
   "source": [
    "strings='Karan Singh Rawat'\n",
    "x=list(strings)\n",
    "print(x)"
   ]
  },
  {
   "cell_type": "code",
   "execution_count": 141,
   "id": "0452fa5f",
   "metadata": {},
   "outputs": [
    {
     "name": "stdout",
     "output_type": "stream",
     "text": [
      "['K', 'a', 'r', 'a', 'n']\n"
     ]
    }
   ],
   "source": [
    "strng='Karan'\n",
    "x=[i for i in strng]\n",
    "print(x)"
   ]
  },
  {
   "cell_type": "code",
   "execution_count": 142,
   "id": "5d23977d",
   "metadata": {},
   "outputs": [
    {
     "data": {
      "text/plain": [
       "'Karan'"
      ]
     },
     "execution_count": 142,
     "metadata": {},
     "output_type": "execute_result"
    }
   ],
   "source": [
    "strng"
   ]
  },
  {
   "cell_type": "code",
   "execution_count": 143,
   "id": "57427296",
   "metadata": {},
   "outputs": [],
   "source": [
    "xs=['k','a','r','a','n']"
   ]
  },
  {
   "cell_type": "code",
   "execution_count": 144,
   "id": "a3ad0024",
   "metadata": {},
   "outputs": [
    {
     "data": {
      "text/plain": [
       "['k', 'a', 'r', 'a', 'n']"
      ]
     },
     "execution_count": 144,
     "metadata": {},
     "output_type": "execute_result"
    }
   ],
   "source": [
    "xs"
   ]
  },
  {
   "cell_type": "code",
   "execution_count": 145,
   "id": "421a19ce",
   "metadata": {},
   "outputs": [],
   "source": [
    "s=''.join(xs)"
   ]
  },
  {
   "cell_type": "code",
   "execution_count": 146,
   "id": "16be06a0",
   "metadata": {},
   "outputs": [
    {
     "data": {
      "text/plain": [
       "'karan'"
      ]
     },
     "execution_count": 146,
     "metadata": {},
     "output_type": "execute_result"
    }
   ],
   "source": [
    "s\n",
    "#Convert a list of words into a string"
   ]
  },
  {
   "cell_type": "code",
   "execution_count": 149,
   "id": "100ca60f",
   "metadata": {},
   "outputs": [
    {
     "name": "stdout",
     "output_type": "stream",
     "text": [
      "Enter the number for powers:4\n",
      "2 is the power 0 is  1\n",
      "2 is the power 1 is  2\n",
      "2 is the power 2 is  4\n",
      "2 is the power 3 is  8\n"
     ]
    }
   ],
   "source": [
    "total=int(input('Enter the number for powers:'))\n",
    "for i in range(total):\n",
    "    print('2 is the power',i,'is ', 2**i)\n",
    "#Create a list of the first `n` powers of 2"
   ]
  },
  {
   "cell_type": "code",
   "execution_count": 150,
   "id": "49d9ea8f",
   "metadata": {},
   "outputs": [
    {
     "name": "stdout",
     "output_type": "stream",
     "text": [
      "The originial list is: ['this', 'is', 'karan']\n",
      "The longest string is: karan\n"
     ]
    }
   ],
   "source": [
    "liststr=['this','is','karan']\n",
    "print('The originial list is: '+str(liststr))\n",
    "max_len=-1\n",
    "for i in liststr:\n",
    "    if len(i)>max_len:\n",
    "        max_len=len(i)\n",
    "        res=i\n",
    "print('The longest string is: '+res)\n",
    "#Find the longest string in a list of strings"
   ]
  },
  {
   "cell_type": "code",
   "execution_count": 151,
   "id": "69d42a8e",
   "metadata": {},
   "outputs": [
    {
     "name": "stdout",
     "output_type": "stream",
     "text": [
      "The originial list is: ['this', 'is', 'karan']\n",
      "The longest string is: is\n"
     ]
    }
   ],
   "source": [
    "liststr=['this','is','karan']\n",
    "print('The originial list is: '+str(liststr))\n",
    "min_len=999\n",
    "for i in liststr:\n",
    "    if len(i)<min_len:\n",
    "        min_len=len(i)\n",
    "        res=i\n",
    "print('The longest string is: '+res)\n",
    "#Find the shortest string in a list of strings"
   ]
  },
  {
   "cell_type": "code",
   "execution_count": 152,
   "id": "1dbb44c7",
   "metadata": {},
   "outputs": [
    {
     "name": "stdout",
     "output_type": "stream",
     "text": [
      "[1, 3, 6, 10, 15]\n"
     ]
    }
   ],
   "source": [
    "trinum=5\n",
    "triangle_nums=[]\n",
    "num=0\n",
    "for i in range(1, trinum+1):\n",
    "    num+=i\n",
    "    triangle_nums.append(num)\n",
    "print(triangle_nums)\n",
    "#Create a list of the first `n` triangular numbers"
   ]
  },
  {
   "cell_type": "code",
   "execution_count": 153,
   "id": "2a791a18",
   "metadata": {},
   "outputs": [
    {
     "name": "stdout",
     "output_type": "stream",
     "text": [
      "The list contains ['java', 'python', 'csharp', '.net', 'html'] all elements of the list ['python', '.net', 'java']\n"
     ]
    }
   ],
   "source": [
    "pnt1=['java','python','csharp','.net','html']\n",
    "pnt2=['python','.net','java']\n",
    "check=all(item in pnt1 for item in pnt2)\n",
    "if check is True:\n",
    "    print('The list contains {} all elements of the list {}'.format(pnt1,pnt2))\n",
    "else:\n",
    "    print('No the list of pnt1 doesnt contain in pnt2')\n",
    "#Check if a list contains another list as a subsequence"
   ]
  },
  {
   "cell_type": "code",
   "execution_count": 154,
   "id": "a3895d46",
   "metadata": {},
   "outputs": [
    {
     "name": "stdout",
     "output_type": "stream",
     "text": [
      "[36, 14, 25, 7, 8]\n"
     ]
    }
   ],
   "source": [
    "def swapping(list, pos1,pos2):\n",
    "    list[pos1],list[pos2]=list[pos2],list[pos1]\n",
    "    return list\n",
    "list=[25,14,36,7,8]\n",
    "pos1,pos2=1,3\n",
    "print(swapping(list,pos1-1,pos2-1))\n",
    "#Swap two elements in a list by their indices"
   ]
  },
  {
   "cell_type": "code",
   "execution_count": 155,
   "id": "e0fd870d",
   "metadata": {},
   "outputs": [],
   "source": [
    "tup=(1,2,3,4,5)"
   ]
  },
  {
   "cell_type": "code",
   "execution_count": 156,
   "id": "589e0186",
   "metadata": {},
   "outputs": [
    {
     "data": {
      "text/plain": [
       "tuple"
      ]
     },
     "execution_count": 156,
     "metadata": {},
     "output_type": "execute_result"
    }
   ],
   "source": [
    "type(tup)"
   ]
  },
  {
   "cell_type": "code",
   "execution_count": 157,
   "id": "ff1e2f32",
   "metadata": {},
   "outputs": [
    {
     "data": {
      "text/plain": [
       "4"
      ]
     },
     "execution_count": 157,
     "metadata": {},
     "output_type": "execute_result"
    }
   ],
   "source": [
    "tup[3]"
   ]
  },
  {
   "cell_type": "code",
   "execution_count": 159,
   "id": "a869ec56",
   "metadata": {},
   "outputs": [
    {
     "name": "stdout",
     "output_type": "stream",
     "text": [
      "Enter a stringKaran\n",
      "The length of the  Karan  string is:  5\n"
     ]
    }
   ],
   "source": [
    "def main():\n",
    "    exa=str(input('Enter a string'))\n",
    "    print('The length of the ',exa,' string is: ',string(exa))\n",
    "\n",
    "def string(length):\n",
    "    if length=='':\n",
    "        return 0\n",
    "    else:\n",
    "        return 1+string(length[1:])\n",
    "\n",
    "main()"
   ]
  },
  {
   "cell_type": "code",
   "execution_count": 160,
   "id": "3c7c5a6b",
   "metadata": {},
   "outputs": [
    {
     "name": "stdout",
     "output_type": "stream",
     "text": [
      "(2, 4, 6, 8, 10)\n",
      "Occurences:  1\n",
      "(4, 9, 10)\n",
      "Occurences:  0\n"
     ]
    }
   ],
   "source": [
    "data=(2,4,6,8,10)\n",
    "print(data)\n",
    "count=data.count(2)\n",
    "print('Occurences: ',count)\n",
    "data=(4,9,10)\n",
    "print(data)\n",
    "count=data.count(2)\n",
    "print('Occurences: ',count)"
   ]
  },
  {
   "cell_type": "code",
   "execution_count": 161,
   "id": "48ddd81a",
   "metadata": {},
   "outputs": [
    {
     "data": {
      "text/plain": [
       "(1, 2, 3, 4, 5)"
      ]
     },
     "execution_count": 161,
     "metadata": {},
     "output_type": "execute_result"
    }
   ],
   "source": [
    "tup"
   ]
  },
  {
   "cell_type": "code",
   "execution_count": 162,
   "id": "ff8a9c93",
   "metadata": {},
   "outputs": [
    {
     "data": {
      "text/plain": [
       "1"
      ]
     },
     "execution_count": 162,
     "metadata": {},
     "output_type": "execute_result"
    }
   ],
   "source": [
    "tup[0]\n",
    "#Find the index of the first occurrence of an element in a tuple"
   ]
  },
  {
   "cell_type": "code",
   "execution_count": 163,
   "id": "02537c60",
   "metadata": {},
   "outputs": [
    {
     "name": "stdout",
     "output_type": "stream",
     "text": [
      "Yes, 'apple' is in the tuples\n"
     ]
    }
   ],
   "source": [
    "fruits=('apple','mango','banana')\n",
    "if 'apple' in fruits:\n",
    "    print(\"Yes, 'apple' is in the tuples\")\n",
    "else:\n",
    "    print('There is no element exist in tuples')"
   ]
  },
  {
   "cell_type": "code",
   "execution_count": 164,
   "id": "5b7287b4",
   "metadata": {},
   "outputs": [],
   "source": [
    "value=(1,2,'Karan', True)"
   ]
  },
  {
   "cell_type": "code",
   "execution_count": 165,
   "id": "9cbf5634",
   "metadata": {},
   "outputs": [
    {
     "data": {
      "text/plain": [
       "(1, 2, 'Karan', True)"
      ]
     },
     "execution_count": 165,
     "metadata": {},
     "output_type": "execute_result"
    }
   ],
   "source": [
    "value"
   ]
  },
  {
   "cell_type": "code",
   "execution_count": 166,
   "id": "b1445fc0",
   "metadata": {},
   "outputs": [
    {
     "data": {
      "text/plain": [
       "tuple"
      ]
     },
     "execution_count": 166,
     "metadata": {},
     "output_type": "execute_result"
    }
   ],
   "source": [
    "type(value)"
   ]
  },
  {
   "cell_type": "code",
   "execution_count": 167,
   "id": "6ac45961",
   "metadata": {},
   "outputs": [
    {
     "ename": "TypeError",
     "evalue": "'list' object is not callable",
     "output_type": "error",
     "traceback": [
      "\u001b[1;31m---------------------------------------------------------------------------\u001b[0m",
      "\u001b[1;31mTypeError\u001b[0m                                 Traceback (most recent call last)",
      "Cell \u001b[1;32mIn[167], line 1\u001b[0m\n\u001b[1;32m----> 1\u001b[0m mylist\u001b[38;5;241m=\u001b[39m\u001b[38;5;28mlist\u001b[39m(value)\n\u001b[0;32m      2\u001b[0m \u001b[38;5;28mprint\u001b[39m(mylist)\n",
      "\u001b[1;31mTypeError\u001b[0m: 'list' object is not callable"
     ]
    }
   ],
   "source": [
    "mylist=list(value)\n",
    "print(mylist)"
   ]
  },
  {
   "cell_type": "code",
   "execution_count": 168,
   "id": "c2a92544",
   "metadata": {},
   "outputs": [
    {
     "data": {
      "text/plain": [
       "[10, 2, 15, 20, 4]"
      ]
     },
     "execution_count": 168,
     "metadata": {},
     "output_type": "execute_result"
    }
   ],
   "source": [
    "l1"
   ]
  },
  {
   "cell_type": "markdown",
   "id": "cf85bd17",
   "metadata": {},
   "source": [
    "l2"
   ]
  },
  {
   "cell_type": "code",
   "execution_count": 169,
   "id": "5c2af1d3",
   "metadata": {},
   "outputs": [
    {
     "data": {
      "text/plain": [
       "[2, 4, 10, 15, 20]"
      ]
     },
     "execution_count": 169,
     "metadata": {},
     "output_type": "execute_result"
    }
   ],
   "source": [
    "l2"
   ]
  },
  {
   "cell_type": "code",
   "execution_count": 170,
   "id": "52c6505f",
   "metadata": {},
   "outputs": [
    {
     "data": {
      "text/plain": [
       "(2, 4, 10, 15, 20)"
      ]
     },
     "execution_count": 170,
     "metadata": {},
     "output_type": "execute_result"
    }
   ],
   "source": [
    "tuple(l2)"
   ]
  },
  {
   "cell_type": "code",
   "execution_count": 171,
   "id": "85568af2",
   "metadata": {},
   "outputs": [
    {
     "data": {
      "text/plain": [
       "list"
      ]
     },
     "execution_count": 171,
     "metadata": {},
     "output_type": "execute_result"
    }
   ],
   "source": [
    "type(l2)"
   ]
  },
  {
   "cell_type": "code",
   "execution_count": 172,
   "id": "5a802285",
   "metadata": {},
   "outputs": [
    {
     "data": {
      "text/plain": [
       "[2, 4, 10, 15, 20]"
      ]
     },
     "execution_count": 172,
     "metadata": {},
     "output_type": "execute_result"
    }
   ],
   "source": [
    "l2"
   ]
  },
  {
   "cell_type": "code",
   "execution_count": 173,
   "id": "272d6e66",
   "metadata": {},
   "outputs": [
    {
     "data": {
      "text/plain": [
       "list"
      ]
     },
     "execution_count": 173,
     "metadata": {},
     "output_type": "execute_result"
    }
   ],
   "source": [
    "type(l2)"
   ]
  },
  {
   "cell_type": "code",
   "execution_count": 174,
   "id": "1949bcbb",
   "metadata": {},
   "outputs": [],
   "source": [
    "t1=(1,2,3,4,5)"
   ]
  },
  {
   "cell_type": "code",
   "execution_count": 175,
   "id": "6c8f00b4",
   "metadata": {},
   "outputs": [
    {
     "ename": "TypeError",
     "evalue": "'list' object is not callable",
     "output_type": "error",
     "traceback": [
      "\u001b[1;31m---------------------------------------------------------------------------\u001b[0m",
      "\u001b[1;31mTypeError\u001b[0m                                 Traceback (most recent call last)",
      "Cell \u001b[1;32mIn[175], line 1\u001b[0m\n\u001b[1;32m----> 1\u001b[0m \u001b[38;5;28mlist\u001b[39m(t1)\n",
      "\u001b[1;31mTypeError\u001b[0m: 'list' object is not callable"
     ]
    }
   ],
   "source": [
    "list(t1)"
   ]
  },
  {
   "cell_type": "code",
   "execution_count": 176,
   "id": "4e5645a4",
   "metadata": {},
   "outputs": [
    {
     "name": "stdout",
     "output_type": "stream",
     "text": [
      "Karan\n",
      "15000\n",
      "IPEM\n"
     ]
    }
   ],
   "source": [
    "a=('Karan',15000,'IPEM')\n",
    "(student,fees,college)=a\n",
    "print(student)\n",
    "print(fees)\n",
    "print(college)"
   ]
  },
  {
   "cell_type": "code",
   "execution_count": 177,
   "id": "381427fe",
   "metadata": {},
   "outputs": [
    {
     "name": "stdout",
     "output_type": "stream",
     "text": [
      "(2, 4, 6, 8, 10)\n"
     ]
    }
   ],
   "source": [
    "even_tuple=tuple(x for x in range(1,11) if x%2==0)\n",
    "print(even_tuple)"
   ]
  },
  {
   "cell_type": "code",
   "execution_count": 178,
   "id": "94174bed",
   "metadata": {},
   "outputs": [
    {
     "name": "stdout",
     "output_type": "stream",
     "text": [
      "(1, 3, 5, 7, 9)\n"
     ]
    }
   ],
   "source": [
    "odd_tuple=tuple(x for x in range(1,11) if x%2!=0)\n",
    "print(odd_tuple)\n",
    "#Create a tuple of odd numbers from 1 to 10"
   ]
  },
  {
   "cell_type": "code",
   "execution_count": 179,
   "id": "e6a75136",
   "metadata": {},
   "outputs": [
    {
     "data": {
      "text/plain": [
       "(1, 2, 3, 4, 5)"
      ]
     },
     "execution_count": 179,
     "metadata": {},
     "output_type": "execute_result"
    }
   ],
   "source": [
    "t1"
   ]
  },
  {
   "cell_type": "code",
   "execution_count": 180,
   "id": "6c71316b",
   "metadata": {},
   "outputs": [
    {
     "data": {
      "text/plain": [
       "tuple"
      ]
     },
     "execution_count": 180,
     "metadata": {},
     "output_type": "execute_result"
    }
   ],
   "source": [
    "type(t1)"
   ]
  },
  {
   "cell_type": "code",
   "execution_count": 181,
   "id": "5a8bfdc1",
   "metadata": {},
   "outputs": [],
   "source": [
    "t2=(5,7,'Karan')"
   ]
  },
  {
   "cell_type": "code",
   "execution_count": 182,
   "id": "479f18fa",
   "metadata": {},
   "outputs": [
    {
     "data": {
      "text/plain": [
       "(5, 7, 'Karan')"
      ]
     },
     "execution_count": 182,
     "metadata": {},
     "output_type": "execute_result"
    }
   ],
   "source": [
    "t2"
   ]
  },
  {
   "cell_type": "code",
   "execution_count": 183,
   "id": "97415952",
   "metadata": {},
   "outputs": [],
   "source": [
    "t3=t1+t2"
   ]
  },
  {
   "cell_type": "code",
   "execution_count": 184,
   "id": "ee194279",
   "metadata": {},
   "outputs": [
    {
     "data": {
      "text/plain": [
       "(1, 2, 3, 4, 5, 5, 7, 'Karan')"
      ]
     },
     "execution_count": 184,
     "metadata": {},
     "output_type": "execute_result"
    }
   ],
   "source": [
    "t3\n",
    "#Concatenate two tuples"
   ]
  },
  {
   "cell_type": "code",
   "execution_count": 185,
   "id": "1639035d",
   "metadata": {},
   "outputs": [
    {
     "data": {
      "text/plain": [
       "(1, 2, 3, 4, 5, 5, 7, 'Karan')"
      ]
     },
     "execution_count": 185,
     "metadata": {},
     "output_type": "execute_result"
    }
   ],
   "source": [
    "t3"
   ]
  },
  {
   "cell_type": "code",
   "execution_count": 186,
   "id": "c2924b6f",
   "metadata": {},
   "outputs": [
    {
     "data": {
      "text/plain": [
       "(5, 7, 'Karan')"
      ]
     },
     "execution_count": 186,
     "metadata": {},
     "output_type": "execute_result"
    }
   ],
   "source": [
    "t2"
   ]
  },
  {
   "cell_type": "code",
   "execution_count": 187,
   "id": "56998949",
   "metadata": {},
   "outputs": [
    {
     "data": {
      "text/plain": [
       "(5, 7, 'Karan', 5, 7, 'Karan', 5, 7, 'Karan')"
      ]
     },
     "execution_count": 187,
     "metadata": {},
     "output_type": "execute_result"
    }
   ],
   "source": [
    "t2*3"
   ]
  },
  {
   "cell_type": "code",
   "execution_count": 188,
   "id": "78c8ca31",
   "metadata": {},
   "outputs": [
    {
     "data": {
      "text/plain": [
       "('Karan', 15000, 'IPEM')"
      ]
     },
     "execution_count": 188,
     "metadata": {},
     "output_type": "execute_result"
    }
   ],
   "source": [
    "a"
   ]
  },
  {
   "cell_type": "code",
   "execution_count": 189,
   "id": "772d4741",
   "metadata": {},
   "outputs": [],
   "source": [
    "b=()"
   ]
  },
  {
   "cell_type": "code",
   "execution_count": 190,
   "id": "018c894b",
   "metadata": {},
   "outputs": [
    {
     "name": "stdout",
     "output_type": "stream",
     "text": [
      "Tuple a is not empty\n",
      "Tuple b is empty\n"
     ]
    }
   ],
   "source": [
    "if a==():\n",
    "    print('Tuple a is empty')\n",
    "else:\n",
    "    print('Tuple a is not empty')\n",
    "if b==():\n",
    "    print('Tuple b is empty')\n",
    "else:\n",
    "    print('Tuple b is not empty')"
   ]
  },
  {
   "cell_type": "code",
   "execution_count": 191,
   "id": "7f56988b",
   "metadata": {},
   "outputs": [
    {
     "name": "stdout",
     "output_type": "stream",
     "text": [
      "(10, 'Ritu', 15000)\n",
      "((10, 'Ritu', 15000), (15, 'Prashant', 20000), (20, 'Rahul', 25000))\n"
     ]
    }
   ],
   "source": [
    "employee=(10,'Ritu',15000)\n",
    "print(employee)\n",
    "employee=((10,'Ritu',15000),(15,'Prashant',20000),(20,'Rahul',25000))\n",
    "print(employee)\n",
    "#Create a nested tuple"
   ]
  },
  {
   "cell_type": "code",
   "execution_count": 192,
   "id": "bc855ce7",
   "metadata": {},
   "outputs": [
    {
     "name": "stdout",
     "output_type": "stream",
     "text": [
      "10\n",
      "15\n",
      "20\n"
     ]
    }
   ],
   "source": [
    "for i in employee:\n",
    "    print(i[0])\n",
    "#Access the first element of a nested tuple"
   ]
  },
  {
   "cell_type": "code",
   "execution_count": 193,
   "id": "ecbca049",
   "metadata": {},
   "outputs": [
    {
     "data": {
      "text/plain": [
       "(1, 2, 3, 4, 5, 5, 7, 'Karan')"
      ]
     },
     "execution_count": 193,
     "metadata": {},
     "output_type": "execute_result"
    }
   ],
   "source": [
    "t3"
   ]
  },
  {
   "cell_type": "code",
   "execution_count": 194,
   "id": "e59b8537",
   "metadata": {},
   "outputs": [],
   "source": [
    "tup2=(2,)"
   ]
  },
  {
   "cell_type": "code",
   "execution_count": 195,
   "id": "283cfa0e",
   "metadata": {},
   "outputs": [
    {
     "data": {
      "text/plain": [
       "(2,)"
      ]
     },
     "execution_count": 195,
     "metadata": {},
     "output_type": "execute_result"
    }
   ],
   "source": [
    "tup2"
   ]
  },
  {
   "cell_type": "code",
   "execution_count": 196,
   "id": "555fe211",
   "metadata": {},
   "outputs": [
    {
     "data": {
      "text/plain": [
       "tuple"
      ]
     },
     "execution_count": 196,
     "metadata": {},
     "output_type": "execute_result"
    }
   ],
   "source": [
    "type(tup2)\n",
    "#Create a tuple with a single element"
   ]
  },
  {
   "cell_type": "code",
   "execution_count": 197,
   "id": "258262a0",
   "metadata": {},
   "outputs": [
    {
     "data": {
      "text/plain": [
       "(1, 2, 3, 4, 5)"
      ]
     },
     "execution_count": 197,
     "metadata": {},
     "output_type": "execute_result"
    }
   ],
   "source": [
    "t1"
   ]
  },
  {
   "cell_type": "code",
   "execution_count": 198,
   "id": "3d6bf4cb",
   "metadata": {},
   "outputs": [
    {
     "data": {
      "text/plain": [
       "(5, 7, 'Karan')"
      ]
     },
     "execution_count": 198,
     "metadata": {},
     "output_type": "execute_result"
    }
   ],
   "source": [
    "t2"
   ]
  },
  {
   "cell_type": "code",
   "execution_count": 199,
   "id": "e425063f",
   "metadata": {},
   "outputs": [
    {
     "name": "stdout",
     "output_type": "stream",
     "text": [
      "t1 and t2 and not equal\n"
     ]
    }
   ],
   "source": [
    "if t1==t2:\n",
    "    print('t1 and t2 are equal')\n",
    "else:\n",
    "    print('t1 and t2 and not equal')\n",
    "#Compare two tuples"
   ]
  },
  {
   "cell_type": "code",
   "execution_count": 200,
   "id": "2c307407",
   "metadata": {},
   "outputs": [],
   "source": [
    "del(t2)\n",
    "#Delete a tuple"
   ]
  },
  {
   "cell_type": "code",
   "execution_count": 201,
   "id": "b685960b",
   "metadata": {},
   "outputs": [
    {
     "ename": "NameError",
     "evalue": "name 't2' is not defined",
     "output_type": "error",
     "traceback": [
      "\u001b[1;31m---------------------------------------------------------------------------\u001b[0m",
      "\u001b[1;31mNameError\u001b[0m                                 Traceback (most recent call last)",
      "Cell \u001b[1;32mIn[201], line 1\u001b[0m\n\u001b[1;32m----> 1\u001b[0m t2\n",
      "\u001b[1;31mNameError\u001b[0m: name 't2' is not defined"
     ]
    }
   ],
   "source": [
    "t2"
   ]
  },
  {
   "cell_type": "code",
   "execution_count": 202,
   "id": "9f882a0e",
   "metadata": {},
   "outputs": [
    {
     "data": {
      "text/plain": [
       "(1, 2, 3, 4, 5)"
      ]
     },
     "execution_count": 202,
     "metadata": {},
     "output_type": "execute_result"
    }
   ],
   "source": [
    "tup"
   ]
  },
  {
   "cell_type": "code",
   "execution_count": 203,
   "id": "c7942af5",
   "metadata": {},
   "outputs": [
    {
     "name": "stdout",
     "output_type": "stream",
     "text": [
      "('a', 'b', 'c', 'd', 'e', 'f')\n",
      "('b', 'd', 'f', 'h')\n"
     ]
    }
   ],
   "source": [
    "tple=('a','b','c','d','e','f','g','h','i','j')\n",
    "print(tple[0:6])\n",
    "print(tple[1:9:2])\n",
    "#Slice a tuple"
   ]
  },
  {
   "cell_type": "code",
   "execution_count": 204,
   "id": "53936c97",
   "metadata": {},
   "outputs": [
    {
     "name": "stdout",
     "output_type": "stream",
     "text": [
      "Maximum value of tuple is:  5\n"
     ]
    }
   ],
   "source": [
    "res=max(tup)\n",
    "print('Maximum value of tuple is: ',res)\n",
    "#Find the maximum value in a tuple"
   ]
  },
  {
   "cell_type": "code",
   "execution_count": 205,
   "id": "7663ca5c",
   "metadata": {},
   "outputs": [
    {
     "name": "stdout",
     "output_type": "stream",
     "text": [
      "Minimum value of tuple is: 1\n"
     ]
    }
   ],
   "source": [
    "res=min(tup)\n",
    "print('Minimum value of tuple is:',res)\n",
    "#Find the minimum value in a tuple"
   ]
  },
  {
   "cell_type": "code",
   "execution_count": 206,
   "id": "f651dadf",
   "metadata": {},
   "outputs": [
    {
     "name": "stdout",
     "output_type": "stream",
     "text": [
      "Input string: Python class\n",
      "Output tuple is: ('Python class',)\n",
      "<class 'tuple'>\n"
     ]
    }
   ],
   "source": [
    "s='Python class'\n",
    "print('Input string:',s)\n",
    "t=s,\n",
    "print('Output tuple is:',t)\n",
    "print(type(t))\n",
    "#Convert a string to a tuple of characters."
   ]
  },
  {
   "cell_type": "code",
   "execution_count": 207,
   "id": "97067ae8",
   "metadata": {},
   "outputs": [
    {
     "name": "stdout",
     "output_type": "stream",
     "text": [
      "karan\n",
      "<class 'str'>\n"
     ]
    }
   ],
   "source": [
    "def converttuple(tpl):\n",
    "    str=''.join(tpl)\n",
    "    return str\n",
    "tpl1=('k','a','r','a','n')\n",
    "strings=converttuple(tpl1)\n",
    "print(strings)\n",
    "print(type(strings))\n",
    "#Convert a tuple of characters to a string"
   ]
  },
  {
   "cell_type": "code",
   "execution_count": 208,
   "id": "808e1a31",
   "metadata": {},
   "outputs": [
    {
     "name": "stdout",
     "output_type": "stream",
     "text": [
      "('Karan', 1, 2.5, True)\n"
     ]
    }
   ],
   "source": [
    "tuples=('Karan',1,2.5,True)\n",
    "print(tuples)\n",
    "#Create a tuple from multiple data types"
   ]
  },
  {
   "cell_type": "code",
   "execution_count": 209,
   "id": "1d0b09ba",
   "metadata": {},
   "outputs": [
    {
     "name": "stdout",
     "output_type": "stream",
     "text": [
      "The first list of tuple is:  [(10, 12), (15, 16)]\n",
      "The second list of tuple is:  [(15, 18), (2, 3)]\n",
      "Are the list of tuples identical?  False\n"
     ]
    }
   ],
   "source": [
    "mylist1=[(10,12),(15,16)]\n",
    "mylist2=[(15,18),(2,3)]\n",
    "print('The first list of tuple is: ',mylist1)\n",
    "print('The second list of tuple is: ',mylist2)\n",
    "res=mylist1==mylist2\n",
    "print('Are the list of tuples identical? ',res)\n",
    "#Check if two tuples are identical"
   ]
  },
  {
   "cell_type": "code",
   "execution_count": 210,
   "id": "451be041",
   "metadata": {},
   "outputs": [
    {
     "name": "stdout",
     "output_type": "stream",
     "text": [
      "[1, 2, 2, 3, 4, 6, 8]\n"
     ]
    }
   ],
   "source": [
    "tup1=(2,1,8,3,4,2,6)\n",
    "result=sorted(tup1)\n",
    "print(result)\n",
    "#Sort the elements of a tuple"
   ]
  },
  {
   "cell_type": "code",
   "execution_count": 211,
   "id": "ab1a6290",
   "metadata": {},
   "outputs": [
    {
     "name": "stdout",
     "output_type": "stream",
     "text": [
      "12345\n"
     ]
    }
   ],
   "source": [
    "def tupletostr(input_tup):\n",
    "    result=''\n",
    "    for num in input_tup:\n",
    "        result+=str(num)\n",
    "    return result\n",
    "\n",
    "int_tuple=(1,2,3,4,5)\n",
    "str_result=tupletostr(int_tuple)\n",
    "print(str_result)\n",
    "#Convert a tuple of integers to a tuple of strings"
   ]
  },
  {
   "cell_type": "code",
   "execution_count": 212,
   "id": "9d6dd54b",
   "metadata": {},
   "outputs": [
    {
     "name": "stdout",
     "output_type": "stream",
     "text": [
      "The original string is : (7, 8, 9)\n",
      "The tuple after conversion is : (7, 8, 9)\n"
     ]
    }
   ],
   "source": [
    "test_str = \"(7, 8, 9)\" \n",
    "print(\"The original string is : \" + test_str)\n",
    "res = tuple(int(num) for num in test_str.replace('(', '').replace(')', '').replace('...', '').split(', '))\n",
    "print(\"The tuple after conversion is : \" + str(res)) \n",
    "#Convert a tuple of strings to a tuple of integers"
   ]
  },
  {
   "cell_type": "code",
   "execution_count": 213,
   "id": "8d86180f",
   "metadata": {},
   "outputs": [
    {
     "data": {
      "text/plain": [
       "(2, 1, 8, 3, 4, 2, 6)"
      ]
     },
     "execution_count": 213,
     "metadata": {},
     "output_type": "execute_result"
    }
   ],
   "source": [
    "tup1"
   ]
  },
  {
   "cell_type": "code",
   "execution_count": 214,
   "id": "69ec6b0c",
   "metadata": {},
   "outputs": [],
   "source": [
    "tup2=('a','b',True,1,2,5)\n",
    "c=tup1+tup2"
   ]
  },
  {
   "cell_type": "code",
   "execution_count": 215,
   "id": "43da2071",
   "metadata": {},
   "outputs": [
    {
     "data": {
      "text/plain": [
       "(2, 1, 8, 3, 4, 2, 6, 'a', 'b', True, 1, 2, 5)"
      ]
     },
     "execution_count": 215,
     "metadata": {},
     "output_type": "execute_result"
    }
   ],
   "source": [
    "c\n",
    "#Merge two tuples"
   ]
  },
  {
   "cell_type": "code",
   "execution_count": 216,
   "id": "2325730c",
   "metadata": {},
   "outputs": [
    {
     "name": "stdout",
     "output_type": "stream",
     "text": [
      "The tuple of list is [(4, 9, 1), (5, 6)]\n"
     ]
    },
    {
     "ename": "TypeError",
     "evalue": "'int' object is not callable",
     "output_type": "error",
     "traceback": [
      "\u001b[1;31m---------------------------------------------------------------------------\u001b[0m",
      "\u001b[1;31mTypeError\u001b[0m                                 Traceback (most recent call last)",
      "Cell \u001b[1;32mIn[216], line 3\u001b[0m\n\u001b[0;32m      1\u001b[0m listtup\u001b[38;5;241m=\u001b[39m[(\u001b[38;5;241m4\u001b[39m,\u001b[38;5;241m9\u001b[39m,\u001b[38;5;241m1\u001b[39m),(\u001b[38;5;241m5\u001b[39m,\u001b[38;5;241m6\u001b[39m)]\n\u001b[0;32m      2\u001b[0m \u001b[38;5;28mprint\u001b[39m(\u001b[38;5;124m'\u001b[39m\u001b[38;5;124mThe tuple of list is \u001b[39m\u001b[38;5;124m'\u001b[39m\u001b[38;5;241m+\u001b[39m \u001b[38;5;28mstr\u001b[39m(listtup))\n\u001b[1;32m----> 3\u001b[0m flattup\u001b[38;5;241m=\u001b[39m\u001b[38;5;28mtuple\u001b[39m(\u001b[38;5;28msum\u001b[39m(listtup,[]))\n\u001b[0;32m      4\u001b[0m \u001b[38;5;28mprint\u001b[39m(\u001b[38;5;124m'\u001b[39m\u001b[38;5;124mTuple after flattening is:\u001b[39m\u001b[38;5;124m'\u001b[39m\u001b[38;5;241m+\u001b[39m \u001b[38;5;28mstr\u001b[39m(flattup))\n",
      "\u001b[1;31mTypeError\u001b[0m: 'int' object is not callable"
     ]
    }
   ],
   "source": [
    "listtup=[(4,9,1),(5,6)]\n",
    "print('The tuple of list is '+ str(listtup))\n",
    "flattup=tuple(sum(listtup,[]))\n",
    "print('Tuple after flattening is:'+ str(flattup))"
   ]
  },
  {
   "cell_type": "code",
   "execution_count": 217,
   "id": "f58f106f",
   "metadata": {},
   "outputs": [
    {
     "name": "stdout",
     "output_type": "stream",
     "text": [
      "(2, 3)\n"
     ]
    }
   ],
   "source": [
    "def prime(n):\n",
    "    if n<=1:\n",
    "        return False\n",
    "    for i in range(2, int(n**.5)+1):\n",
    "        if n%i==0:\n",
    "            return False\n",
    "    return True\n",
    "\n",
    "primes=tuple(x for x in range(0,5) if prime(x))\n",
    "print(primes)\n",
    "#Create a tuple of the first 5 prime numbers"
   ]
  },
  {
   "cell_type": "code",
   "execution_count": 219,
   "id": "3c744903",
   "metadata": {},
   "outputs": [
    {
     "name": "stdout",
     "output_type": "stream",
     "text": [
      "Enter a String:nitin\n",
      "The String is Palindrom\n"
     ]
    }
   ],
   "source": [
    "def ispalindrome(string):\n",
    "    revstr=''.join(reversed(string))\n",
    "    if string==revstr:\n",
    "        return 'The String is Palindrom'\n",
    "    return 'The String is not Palindrom'\n",
    "string=input('Enter a String:')\n",
    "print(ispalindrome(string))\n",
    "#Check if a tuple is a palindrome"
   ]
  },
  {
   "cell_type": "code",
   "execution_count": 220,
   "id": "08b43f2b",
   "metadata": {},
   "outputs": [
    {
     "name": "stdout",
     "output_type": "stream",
     "text": [
      "[(1, 1), (2, 4), (3, 9), (4, 16)]\n"
     ]
    }
   ],
   "source": [
    "numsqr=[(x,x**2)for x in range(1,5)]\n",
    "print(numsqr)\n",
    "#Create a tuple of squares of numbers from 1 to 5"
   ]
  },
  {
   "cell_type": "code",
   "execution_count": 221,
   "id": "8a7dc7e5",
   "metadata": {},
   "outputs": [
    {
     "name": "stdout",
     "output_type": "stream",
     "text": [
      "The original list is: [(6, 4, 2, 8), (5, 6, 7, 6), (8, 0, 2), (7,)]\n",
      "Filtered tuple is: [(6, 4, 2, 8), (8, 0, 2)]\n"
     ]
    }
   ],
   "source": [
    "tst=[(6, 4, 2, 8), (5, 6, 7, 6), (8, 0, 2), (7, )]\n",
    "print('The original list is: '+str(tst))\n",
    "res_list=[]\n",
    "for sub in tst:\n",
    "    res=True\n",
    "    for ele in sub:\n",
    "        if ele%2!=0:\n",
    "            res=False\n",
    "            break\n",
    "    if res:\n",
    "        res_list.append(sub)\n",
    "print('Filtered tuple is: '+str(res_list))\n",
    "#Filter out all even numbers from a tuple"
   ]
  },
  {
   "cell_type": "code",
   "execution_count": 222,
   "id": "5f8f00d9",
   "metadata": {},
   "outputs": [
    {
     "data": {
      "text/plain": [
       "(2, 1, 8, 3, 4, 2, 6)"
      ]
     },
     "execution_count": 222,
     "metadata": {},
     "output_type": "execute_result"
    }
   ],
   "source": [
    "tup1"
   ]
  },
  {
   "cell_type": "code",
   "execution_count": 223,
   "id": "c383fe84",
   "metadata": {},
   "outputs": [
    {
     "ename": "TypeError",
     "evalue": "'list' object is not callable",
     "output_type": "error",
     "traceback": [
      "\u001b[1;31m---------------------------------------------------------------------------\u001b[0m",
      "\u001b[1;31mTypeError\u001b[0m                                 Traceback (most recent call last)",
      "Cell \u001b[1;32mIn[223], line 5\u001b[0m\n\u001b[0;32m      3\u001b[0m n\u001b[38;5;241m=\u001b[39m\u001b[38;5;241m5\u001b[39m\n\u001b[0;32m      4\u001b[0m r\u001b[38;5;241m=\u001b[39m\u001b[38;5;241m8\u001b[39m\n\u001b[1;32m----> 5\u001b[0m result\u001b[38;5;241m=\u001b[39mrandom\u001b[38;5;241m.\u001b[39msample(\u001b[38;5;28mlist\u001b[39m(itertools\u001b[38;5;241m.\u001b[39mproduct(\u001b[38;5;28mrange\u001b[39m(r\u001b[38;5;241m+\u001b[39m\u001b[38;5;241m1\u001b[39m), repeat\u001b[38;5;241m=\u001b[39m\u001b[38;5;241m2\u001b[39m)), n)\n\u001b[0;32m      6\u001b[0m \u001b[38;5;28mprint\u001b[39m(\u001b[38;5;124m'\u001b[39m\u001b[38;5;124mThe N random tuples are: \u001b[39m\u001b[38;5;124m'\u001b[39m\u001b[38;5;241m+\u001b[39m\u001b[38;5;28mstr\u001b[39m(result))\n",
      "\u001b[1;31mTypeError\u001b[0m: 'list' object is not callable"
     ]
    }
   ],
   "source": [
    "import random\n",
    "import itertools\n",
    "n=5\n",
    "r=8\n",
    "result=random.sample(list(itertools.product(range(r+1), repeat=2)), n)\n",
    "print('The N random tuples are: '+str(result))"
   ]
  },
  {
   "cell_type": "code",
   "execution_count": 224,
   "id": "67fb8745",
   "metadata": {},
   "outputs": [
    {
     "name": "stdout",
     "output_type": "stream",
     "text": [
      "[(4, 2), (5, 1), (0, 6), (6, 0)]\n"
     ]
    }
   ],
   "source": [
    "import random\n",
    "N = 4\n",
    "R = 6\n",
    "generate_tuples = lambda N, R: [(random.randint(0, R), random.randint(0, R)) for _ in range(N)]\n",
    " \n",
    "output = generate_tuples(N, R)\n",
    "print(output)\n",
    "#Create a tuple of random numbers"
   ]
  },
  {
   "cell_type": "code",
   "execution_count": 225,
   "id": "88d03d0f",
   "metadata": {},
   "outputs": [
    {
     "name": "stdout",
     "output_type": "stream",
     "text": [
      "(83, 1, 2, 4, 10, 18)\n",
      "<class 'tuple'>\n"
     ]
    }
   ],
   "source": [
    "import numpy as np\n",
    "if __name__ == '__main__':\n",
    "   number = (1, 2, 4, 10, 18, 83)\n",
    "   i = 1\n",
    "   x = tuple(np.roll(number, i))\n",
    "   print(x)\n",
    "print(type(x))\n",
    "#Rotate a tuple to the left by `n` positions"
   ]
  },
  {
   "cell_type": "code",
   "execution_count": 226,
   "id": "b6ef47db",
   "metadata": {},
   "outputs": [
    {
     "name": "stdout",
     "output_type": "stream",
     "text": [
      "Fibonacci series are:\n",
      "(0, 1, 1, 2, 3)\n",
      "<class 'tuple'>\n"
     ]
    }
   ],
   "source": [
    "def fibon(n):\n",
    "    series=[0,1]\n",
    "    for i in range(2,n):\n",
    "        series.append(series[i-1]+series[i-2])\n",
    "    return series\n",
    "n=5\n",
    "fib_series=tuple(fibon(n))\n",
    "print('Fibonacci series are:')\n",
    "print(fib_series)\n",
    "print(type(fib_series))"
   ]
  },
  {
   "cell_type": "code",
   "execution_count": 227,
   "id": "54f0d743",
   "metadata": {},
   "outputs": [
    {
     "name": "stdout",
     "output_type": "stream",
     "text": [
      "Enter a tuple1,2,5,8,9\n",
      "(1, 2, 5, 8, 9)\n"
     ]
    }
   ],
   "source": [
    "x=input('Enter a tuple')\n",
    "x=tuple(int(a) for a in x.split(\",\"))\n",
    "print(x)\n",
    "#Create a tuple from user input"
   ]
  },
  {
   "cell_type": "code",
   "execution_count": 228,
   "id": "bd28f92a",
   "metadata": {},
   "outputs": [
    {
     "name": "stdout",
     "output_type": "stream",
     "text": [
      "a= (20, 25, 28) b= (30, 35, 40)\n",
      "a= (30, 35, 40) b= (20, 25, 28)\n"
     ]
    }
   ],
   "source": [
    "a=(20,25,28)\n",
    "b=(30,35,40)\n",
    "print (\"a=\",a, \"b=\",b)\n",
    "(a,b)=(b,a)\n",
    "print(\"a=\",a, \"b=\",b)\n",
    "#Swap two elements in a tuple"
   ]
  },
  {
   "cell_type": "code",
   "execution_count": 229,
   "id": "2c6469ee",
   "metadata": {},
   "outputs": [
    {
     "name": "stdout",
     "output_type": "stream",
     "text": [
      "The original tuple is:  ('Karan', True, 1, 2, 4, 2.5)\n",
      "The reveresed tuple is:  (2.5, 4, 2, 1, True, 'Karan')\n"
     ]
    }
   ],
   "source": [
    "tupvalue=('Karan', True, 1,2,4,2.5)\n",
    "print('The original tuple is: ', tupvalue)\n",
    "tupvalue=tuple(reversed(tupvalue))\n",
    "print('The reveresed tuple is: ',tupvalue)\n",
    "#Reverse the elements of a tuple"
   ]
  },
  {
   "cell_type": "code",
   "execution_count": 231,
   "id": "f3c23341",
   "metadata": {},
   "outputs": [
    {
     "name": "stdout",
     "output_type": "stream",
     "text": [
      "Enter the total number of terms\n",
      "5\n",
      "2 to the power of 0 is 1\n",
      "2 to the power of 1 is 2\n",
      "2 to the power of 2 is 4\n",
      "2 to the power of 3 is 8\n",
      "2 to the power of 4 is 16\n"
     ]
    }
   ],
   "source": [
    "print('Enter the total number of terms')\n",
    "total=int(input())\n",
    "for i in range(total):\n",
    "    print('2 to the power of', i, 'is', 2**i)\n",
    "#Create a tuple of the first `n` powers of 2"
   ]
  },
  {
   "cell_type": "code",
   "execution_count": 232,
   "id": "c8031171",
   "metadata": {},
   "outputs": [],
   "source": [
    "tupstr=('This','is','Karan')"
   ]
  },
  {
   "cell_type": "code",
   "execution_count": 233,
   "id": "1af5f893",
   "metadata": {},
   "outputs": [
    {
     "data": {
      "text/plain": [
       "tuple"
      ]
     },
     "execution_count": 233,
     "metadata": {},
     "output_type": "execute_result"
    }
   ],
   "source": [
    "type(tupstr)"
   ]
  },
  {
   "cell_type": "code",
   "execution_count": 234,
   "id": "d25c6daf",
   "metadata": {},
   "outputs": [
    {
     "data": {
      "text/plain": [
       "'is'"
      ]
     },
     "execution_count": 234,
     "metadata": {},
     "output_type": "execute_result"
    }
   ],
   "source": [
    "max(tupstr)"
   ]
  },
  {
   "cell_type": "code",
   "execution_count": 235,
   "id": "43b295de",
   "metadata": {},
   "outputs": [
    {
     "data": {
      "text/plain": [
       "'Karan'"
      ]
     },
     "execution_count": 235,
     "metadata": {},
     "output_type": "execute_result"
    }
   ],
   "source": [
    "min(tupstr)"
   ]
  },
  {
   "cell_type": "code",
   "execution_count": 236,
   "id": "ee61778b",
   "metadata": {},
   "outputs": [
    {
     "name": "stdout",
     "output_type": "stream",
     "text": [
      "The triangular numbers are:\n",
      "1\n",
      "3\n",
      "6\n",
      "10\n",
      "15\n",
      "21\n",
      "28\n",
      "36\n",
      "45\n"
     ]
    }
   ],
   "source": [
    "numbers=0\n",
    "print('The triangular numbers are:')\n",
    "for i in range (1,10):\n",
    "    numbers=numbers + i\n",
    "    print(numbers)\n",
    "#Create a tuple of the first `n` triangular numbers"
   ]
  },
  {
   "cell_type": "code",
   "execution_count": 237,
   "id": "f2390e0f",
   "metadata": {},
   "outputs": [
    {
     "data": {
      "text/plain": [
       "(2, 1, 8, 3, 4, 2, 6)"
      ]
     },
     "execution_count": 237,
     "metadata": {},
     "output_type": "execute_result"
    }
   ],
   "source": [
    "tup1"
   ]
  },
  {
   "cell_type": "code",
   "execution_count": 238,
   "id": "a2d0e5c0",
   "metadata": {},
   "outputs": [
    {
     "data": {
      "text/plain": [
       "('a', 'b', True, 1, 2, 5)"
      ]
     },
     "execution_count": 238,
     "metadata": {},
     "output_type": "execute_result"
    }
   ],
   "source": [
    "tup2"
   ]
  },
  {
   "cell_type": "code",
   "execution_count": 239,
   "id": "5442e470",
   "metadata": {},
   "outputs": [
    {
     "name": "stdout",
     "output_type": "stream",
     "text": [
      "the first tuple is: (2, 1, 8, 3, 4, 2, 6)\n",
      "the second tuple is: ('a', 'b', True, 1, 2, 5)\n",
      "Is the tuple contains another tuple as subsequence?\n",
      "False\n"
     ]
    }
   ],
   "source": [
    "print('the first tuple is:', tup1)\n",
    "print('the second tuple is:', tup2)\n",
    "myresult=set(tup2).issubset(tup1)\n",
    "print('Is the tuple contains another tuple as subsequence?')\n",
    "print(myresult)\n",
    "#Check if a tuple contains another tuple as a subsequence"
   ]
  },
  {
   "cell_type": "code",
   "execution_count": 240,
   "id": "ad048162",
   "metadata": {},
   "outputs": [
    {
     "name": "stdout",
     "output_type": "stream",
     "text": [
      "{0, 1, 2, 3, 4}\n"
     ]
    },
    {
     "data": {
      "text/plain": [
       "set"
      ]
     },
     "execution_count": 240,
     "metadata": {},
     "output_type": "execute_result"
    }
   ],
   "source": [
    "n=5\n",
    "myset=set(range(n))\n",
    "print(myset)\n",
    "type(myset)"
   ]
  },
  {
   "cell_type": "code",
   "execution_count": 241,
   "id": "eb0c6633",
   "metadata": {},
   "outputs": [],
   "source": [
    "myset.add(6)"
   ]
  },
  {
   "cell_type": "code",
   "execution_count": 242,
   "id": "ea67e4b7",
   "metadata": {},
   "outputs": [
    {
     "data": {
      "text/plain": [
       "{0, 1, 2, 3, 4, 6}"
      ]
     },
     "execution_count": 242,
     "metadata": {},
     "output_type": "execute_result"
    }
   ],
   "source": [
    "myset"
   ]
  },
  {
   "cell_type": "code",
   "execution_count": 243,
   "id": "840695aa",
   "metadata": {},
   "outputs": [],
   "source": [
    "myset.remove(6)"
   ]
  },
  {
   "cell_type": "code",
   "execution_count": 244,
   "id": "d6dbca91",
   "metadata": {},
   "outputs": [
    {
     "data": {
      "text/plain": [
       "{0, 1, 2, 3, 4}"
      ]
     },
     "execution_count": 244,
     "metadata": {},
     "output_type": "execute_result"
    }
   ],
   "source": [
    "myset"
   ]
  },
  {
   "cell_type": "code",
   "execution_count": 245,
   "id": "e8b86e22",
   "metadata": {},
   "outputs": [
    {
     "name": "stdout",
     "output_type": "stream",
     "text": [
      "This element exist in set\n"
     ]
    }
   ],
   "source": [
    "if 3 in myset:\n",
    "    print('This element exist in set')\n",
    "else:\n",
    "    print('This element doesnt exist in set')"
   ]
  },
  {
   "cell_type": "code",
   "execution_count": 246,
   "id": "63f5c60c",
   "metadata": {},
   "outputs": [
    {
     "ename": "TypeError",
     "evalue": "'set' object is not subscriptable",
     "output_type": "error",
     "traceback": [
      "\u001b[1;31m---------------------------------------------------------------------------\u001b[0m",
      "\u001b[1;31mTypeError\u001b[0m                                 Traceback (most recent call last)",
      "Cell \u001b[1;32mIn[246], line 7\u001b[0m\n\u001b[0;32m      5\u001b[0m     \u001b[38;5;28;01mreturn\u001b[39;00m counter\n\u001b[0;32m      6\u001b[0m n\u001b[38;5;241m=\u001b[39m\u001b[38;5;28mset\u001b[39m(\u001b[38;5;124m'\u001b[39m\u001b[38;5;124mKaran Singh Rawat\u001b[39m\u001b[38;5;124m'\u001b[39m)\n\u001b[1;32m----> 7\u001b[0m \u001b[38;5;28mprint\u001b[39m(findlen(n))\n",
      "Cell \u001b[1;32mIn[246], line 3\u001b[0m, in \u001b[0;36mfindlen\u001b[1;34m(n)\u001b[0m\n\u001b[0;32m      1\u001b[0m \u001b[38;5;28;01mdef\u001b[39;00m \u001b[38;5;21mfindlen\u001b[39m(n):\n\u001b[0;32m      2\u001b[0m     counter\u001b[38;5;241m=\u001b[39m\u001b[38;5;241m0\u001b[39m\n\u001b[1;32m----> 3\u001b[0m     \u001b[38;5;28;01mwhile\u001b[39;00m n[counter:]:\n\u001b[0;32m      4\u001b[0m         counter\u001b[38;5;241m+\u001b[39m\u001b[38;5;241m=\u001b[39m\u001b[38;5;241m1\u001b[39m\n\u001b[0;32m      5\u001b[0m     \u001b[38;5;28;01mreturn\u001b[39;00m counter\n",
      "\u001b[1;31mTypeError\u001b[0m: 'set' object is not subscriptable"
     ]
    }
   ],
   "source": [
    "def findlen(n):\n",
    "    counter=0\n",
    "    while n[counter:]:\n",
    "        counter+=1\n",
    "    return counter\n",
    "n=set('Karan Singh Rawat')\n",
    "print(findlen(n))"
   ]
  },
  {
   "cell_type": "code",
   "execution_count": 247,
   "id": "856500b5",
   "metadata": {},
   "outputs": [],
   "source": [
    "myset.clear()"
   ]
  },
  {
   "cell_type": "code",
   "execution_count": 248,
   "id": "c26c80d5",
   "metadata": {},
   "outputs": [
    {
     "data": {
      "text/plain": [
       "set()"
      ]
     },
     "execution_count": 248,
     "metadata": {},
     "output_type": "execute_result"
    }
   ],
   "source": [
    "myset"
   ]
  },
  {
   "cell_type": "code",
   "execution_count": 249,
   "id": "7efc26e8",
   "metadata": {},
   "outputs": [
    {
     "name": "stdout",
     "output_type": "stream",
     "text": [
      "{0, 2, 4, 6, 8}\n",
      "<class 'set'>\n"
     ]
    }
   ],
   "source": [
    "myset=set([x for x in range(10) if x%2==0])\n",
    "print(myset)\n",
    "print(type(myset))"
   ]
  },
  {
   "cell_type": "code",
   "execution_count": 250,
   "id": "53a02976",
   "metadata": {},
   "outputs": [
    {
     "name": "stdout",
     "output_type": "stream",
     "text": [
      "{1, 3, 5, 7, 9}\n",
      "<class 'set'>\n"
     ]
    }
   ],
   "source": [
    "myset1=set([x for x in range(10) if x%2!=0])\n",
    "print(myset1)\n",
    "print(type(myset1))"
   ]
  },
  {
   "cell_type": "code",
   "execution_count": 251,
   "id": "f6305f34",
   "metadata": {},
   "outputs": [
    {
     "name": "stdout",
     "output_type": "stream",
     "text": [
      "A U B: {0, 1, 2, 3, 4, 5, 6, 7, 8, 9}\n"
     ]
    }
   ],
   "source": [
    "print('A U B:', myset.union(myset1))"
   ]
  },
  {
   "cell_type": "code",
   "execution_count": 252,
   "id": "0b860d4c",
   "metadata": {},
   "outputs": [
    {
     "name": "stdout",
     "output_type": "stream",
     "text": [
      "<class 'set'>\n"
     ]
    }
   ],
   "source": [
    "myset2=set((3,4,8,10))\n",
    "print(type(myset2))"
   ]
  },
  {
   "cell_type": "code",
   "execution_count": 253,
   "id": "330590d0",
   "metadata": {},
   "outputs": [
    {
     "name": "stdout",
     "output_type": "stream",
     "text": [
      "Set of intersection is:  {3}\n"
     ]
    }
   ],
   "source": [
    "myset1.intersection_update(myset2)\n",
    "print('Set of intersection is: ', myset1)"
   ]
  },
  {
   "cell_type": "code",
   "execution_count": 254,
   "id": "9d6c247d",
   "metadata": {},
   "outputs": [
    {
     "name": "stdout",
     "output_type": "stream",
     "text": [
      "{8, 10}\n",
      "{9, 11, 15, 7}\n"
     ]
    }
   ],
   "source": [
    "myset3=set((3,4,7,9,11,15))\n",
    "print(myset2.difference(myset3))\n",
    "print(myset3.difference(myset2))\n",
    "#Find the difference between two sets"
   ]
  },
  {
   "cell_type": "code",
   "execution_count": 255,
   "id": "9b311351",
   "metadata": {},
   "outputs": [
    {
     "name": "stdout",
     "output_type": "stream",
     "text": [
      "False\n"
     ]
    }
   ],
   "source": [
    "print(myset3.issubset(myset2))"
   ]
  },
  {
   "cell_type": "code",
   "execution_count": 256,
   "id": "0063be47",
   "metadata": {},
   "outputs": [],
   "source": [
    "a={10,12,14}"
   ]
  },
  {
   "cell_type": "code",
   "execution_count": 257,
   "id": "1cd0824e",
   "metadata": {},
   "outputs": [
    {
     "data": {
      "text/plain": [
       "set"
      ]
     },
     "execution_count": 257,
     "metadata": {},
     "output_type": "execute_result"
    }
   ],
   "source": [
    "type(a)"
   ]
  },
  {
   "cell_type": "code",
   "execution_count": 258,
   "id": "afa84d9d",
   "metadata": {},
   "outputs": [
    {
     "name": "stdout",
     "output_type": "stream",
     "text": [
      "False\n"
     ]
    }
   ],
   "source": [
    "print(myset3.issuperset(myset2))\n",
    "#Check if a set is a superset of another set"
   ]
  },
  {
   "cell_type": "code",
   "execution_count": 259,
   "id": "1fd1296a",
   "metadata": {},
   "outputs": [
    {
     "name": "stdout",
     "output_type": "stream",
     "text": [
      "{1, 2, 3, 6}\n"
     ]
    }
   ],
   "source": [
    "mylist=[1,2,2,3,6]\n",
    "my_set=set()\n",
    "for num in mylist:\n",
    "    my_set.add(num)\n",
    "print(my_set)"
   ]
  },
  {
   "cell_type": "code",
   "execution_count": 260,
   "id": "dae46e72",
   "metadata": {},
   "outputs": [
    {
     "data": {
      "text/plain": [
       "{3, 4, 7, 9, 11, 15}"
      ]
     },
     "execution_count": 260,
     "metadata": {},
     "output_type": "execute_result"
    }
   ],
   "source": [
    "myset3"
   ]
  },
  {
   "cell_type": "code",
   "execution_count": 261,
   "id": "7c666bfb",
   "metadata": {},
   "outputs": [
    {
     "data": {
      "text/plain": [
       "set"
      ]
     },
     "execution_count": 261,
     "metadata": {},
     "output_type": "execute_result"
    }
   ],
   "source": [
    "type(myset3)"
   ]
  },
  {
   "cell_type": "code",
   "execution_count": 262,
   "id": "76b23467",
   "metadata": {},
   "outputs": [
    {
     "name": "stdout",
     "output_type": "stream",
     "text": [
      "<class 'set'>\n"
     ]
    },
    {
     "ename": "TypeError",
     "evalue": "'list' object is not callable",
     "output_type": "error",
     "traceback": [
      "\u001b[1;31m---------------------------------------------------------------------------\u001b[0m",
      "\u001b[1;31mTypeError\u001b[0m                                 Traceback (most recent call last)",
      "Cell \u001b[1;32mIn[262], line 3\u001b[0m\n\u001b[0;32m      1\u001b[0m my_set \u001b[38;5;241m=\u001b[39m {\u001b[38;5;124m'\u001b[39m\u001b[38;5;124mKaran\u001b[39m\u001b[38;5;124m'\u001b[39m, \u001b[38;5;124m'\u001b[39m\u001b[38;5;124mSingh\u001b[39m\u001b[38;5;124m'\u001b[39m, \u001b[38;5;124m'\u001b[39m\u001b[38;5;124mRawat\u001b[39m\u001b[38;5;124m'\u001b[39m}\n\u001b[0;32m      2\u001b[0m \u001b[38;5;28mprint\u001b[39m(\u001b[38;5;28mtype\u001b[39m(my_set))\n\u001b[1;32m----> 3\u001b[0m s \u001b[38;5;241m=\u001b[39m \u001b[38;5;28mlist\u001b[39m(my_set)\n\u001b[0;32m      4\u001b[0m \u001b[38;5;28mprint\u001b[39m(\u001b[38;5;28mtype\u001b[39m(s))\n",
      "\u001b[1;31mTypeError\u001b[0m: 'list' object is not callable"
     ]
    }
   ],
   "source": [
    "my_set = {'Karan', 'Singh', 'Rawat'}\n",
    "print(type(my_set))\n",
    "s = list(my_set)\n",
    "print(type(s))\n",
    "\n",
    "#please give a solution of that"
   ]
  },
  {
   "cell_type": "code",
   "execution_count": 263,
   "id": "c2554e06",
   "metadata": {},
   "outputs": [
    {
     "data": {
      "text/plain": [
       "set"
      ]
     },
     "execution_count": 263,
     "metadata": {},
     "output_type": "execute_result"
    }
   ],
   "source": [
    "type(myset3)"
   ]
  },
  {
   "cell_type": "code",
   "execution_count": 264,
   "id": "cd19e758",
   "metadata": {},
   "outputs": [
    {
     "data": {
      "text/plain": [
       "{3, 4, 7, 9, 11, 15}"
      ]
     },
     "execution_count": 264,
     "metadata": {},
     "output_type": "execute_result"
    }
   ],
   "source": [
    "myset3"
   ]
  },
  {
   "cell_type": "code",
   "execution_count": 265,
   "id": "33c099de",
   "metadata": {},
   "outputs": [
    {
     "name": "stdout",
     "output_type": "stream",
     "text": [
      "The random deleted element for set is: 3\n"
     ]
    }
   ],
   "source": [
    "random=myset3.pop()\n",
    "print('The random deleted element for set is:', random)"
   ]
  },
  {
   "cell_type": "code",
   "execution_count": 266,
   "id": "fac7822f",
   "metadata": {},
   "outputs": [
    {
     "name": "stdout",
     "output_type": "stream",
     "text": [
      "The deleted element is:  None\n"
     ]
    }
   ],
   "source": [
    "new=myset3.remove(9)\n",
    "print('The deleted element is: ', new)"
   ]
  },
  {
   "cell_type": "code",
   "execution_count": 267,
   "id": "f94fb189",
   "metadata": {},
   "outputs": [
    {
     "name": "stdout",
     "output_type": "stream",
     "text": [
      "a: {23, 8, 56, 45, 78}\n",
      "b: {42, 26, 55, 87}\n",
      "c: {46, 87}\n",
      "Check if two given sets have common elements\n",
      "compare a and b: True\n",
      "compare b and c: False\n",
      "compare c and a: True\n"
     ]
    }
   ],
   "source": [
    "a = {23,45,78,8,56}\n",
    "b = {42,55,26,87}\n",
    "c = {87,46}\n",
    "print('a:',a)\n",
    "print('b:',b)\n",
    "print('c:',c)\n",
    "print('Check if two given sets have common elements')\n",
    "print('compare a and b:', a.isdisjoint(b))\n",
    "print('compare b and c:', b.isdisjoint(c))\n",
    "print('compare c and a:', c.isdisjoint(a))\n",
    "#Check if two sets have no elements in common"
   ]
  },
  {
   "cell_type": "code",
   "execution_count": 268,
   "id": "5295f112",
   "metadata": {},
   "outputs": [],
   "source": [
    "a1={8,15,19,20,25}"
   ]
  },
  {
   "cell_type": "code",
   "execution_count": 269,
   "id": "29df4c79",
   "metadata": {},
   "outputs": [],
   "source": [
    "b1={8,9,10,19,22,25}"
   ]
  },
  {
   "cell_type": "code",
   "execution_count": 270,
   "id": "68592498",
   "metadata": {},
   "outputs": [
    {
     "name": "stdout",
     "output_type": "stream",
     "text": [
      "{20, 22, 9, 10, 15}\n"
     ]
    }
   ],
   "source": [
    "print(a1.symmetric_difference(b1))\n",
    "#Find the symmetric difference between two sets"
   ]
  },
  {
   "cell_type": "code",
   "execution_count": 271,
   "id": "bd11f9fe",
   "metadata": {},
   "outputs": [
    {
     "name": "stdout",
     "output_type": "stream",
     "text": [
      "{8, 9, 10, 15, 19, 20, 22, 25}\n"
     ]
    }
   ],
   "source": [
    "a1.update(b1)\n",
    "print(a1)\n",
    "#Update a set with elements from another set"
   ]
  },
  {
   "cell_type": "code",
   "execution_count": 272,
   "id": "d9dc6f24",
   "metadata": {},
   "outputs": [
    {
     "name": "stdout",
     "output_type": "stream",
     "text": [
      "The prime numbers are:\n",
      "2\n",
      "3\n"
     ]
    }
   ],
   "source": [
    "n=5\n",
    "print('The prime numbers are:')\n",
    "for num in range(n):\n",
    "    if num>1:\n",
    "        for i in range(2,num):\n",
    "            if (num%i)==0:\n",
    "                break\n",
    "        else:\n",
    "            print(num)\n",
    "#Create a set of the first 5 prime numbers"
   ]
  },
  {
   "cell_type": "code",
   "execution_count": 273,
   "id": "1bb05c10",
   "metadata": {},
   "outputs": [
    {
     "name": "stdout",
     "output_type": "stream",
     "text": [
      "The set are identical\n"
     ]
    }
   ],
   "source": [
    "set1={1,2,3,5}\n",
    "set2={1,2,3,5}\n",
    "if set1==set2:\n",
    "    print('The set are identical')\n",
    "else:\n",
    "    print('The set are not identical')\n",
    "#Check if two sets are identical"
   ]
  },
  {
   "cell_type": "code",
   "execution_count": 274,
   "id": "660f30a7",
   "metadata": {},
   "outputs": [],
   "source": [
    "fruits=('Apple','Mango','Banana')\n",
    "z=frozenset(fruits)"
   ]
  },
  {
   "cell_type": "code",
   "execution_count": 275,
   "id": "a8b273d1",
   "metadata": {},
   "outputs": [
    {
     "data": {
      "text/plain": [
       "frozenset({'Apple', 'Banana', 'Mango'})"
      ]
     },
     "execution_count": 275,
     "metadata": {},
     "output_type": "execute_result"
    }
   ],
   "source": [
    "z"
   ]
  },
  {
   "cell_type": "code",
   "execution_count": 276,
   "id": "f0533086",
   "metadata": {},
   "outputs": [
    {
     "data": {
      "text/plain": [
       "frozenset"
      ]
     },
     "execution_count": 276,
     "metadata": {},
     "output_type": "execute_result"
    }
   ],
   "source": [
    "type(z)\n",
    "#Create a frozen set"
   ]
  },
  {
   "cell_type": "code",
   "execution_count": 277,
   "id": "608ed7d7",
   "metadata": {},
   "outputs": [
    {
     "data": {
      "text/plain": [
       "{8, 23, 45, 56, 78}"
      ]
     },
     "execution_count": 277,
     "metadata": {},
     "output_type": "execute_result"
    }
   ],
   "source": [
    "a"
   ]
  },
  {
   "cell_type": "code",
   "execution_count": 278,
   "id": "a11ce031",
   "metadata": {},
   "outputs": [
    {
     "data": {
      "text/plain": [
       "{26, 42, 55, 87}"
      ]
     },
     "execution_count": 278,
     "metadata": {},
     "output_type": "execute_result"
    }
   ],
   "source": [
    "b"
   ]
  },
  {
   "cell_type": "code",
   "execution_count": 279,
   "id": "2b1998e1",
   "metadata": {},
   "outputs": [
    {
     "name": "stdout",
     "output_type": "stream",
     "text": [
      "True\n"
     ]
    }
   ],
   "source": [
    "print(a.isdisjoint(b))\n",
    "#Check if a set is disjoint with another set"
   ]
  },
  {
   "cell_type": "code",
   "execution_count": 281,
   "id": "6b973913",
   "metadata": {},
   "outputs": [
    {
     "name": "stdout",
     "output_type": "stream",
     "text": [
      "{1, 4, 9, 16, 25}\n",
      "<class 'set'>\n"
     ]
    }
   ],
   "source": [
    "sqr={x**2 for x in range(1,6)}\n",
    "print(sqr)\n",
    "print(type(sqr))\n",
    "#Create a set of squares of numbers from 1 to 5"
   ]
  },
  {
   "cell_type": "code",
   "execution_count": 282,
   "id": "daa31d88",
   "metadata": {},
   "outputs": [
    {
     "data": {
      "text/plain": [
       "{8, 9, 10, 15, 19, 20, 22, 25}"
      ]
     },
     "execution_count": 282,
     "metadata": {},
     "output_type": "execute_result"
    }
   ],
   "source": [
    "a1"
   ]
  },
  {
   "cell_type": "code",
   "execution_count": 284,
   "id": "f2940b0d",
   "metadata": {},
   "outputs": [
    {
     "name": "stdout",
     "output_type": "stream",
     "text": [
      "8,10,20,22,"
     ]
    }
   ],
   "source": [
    "for i in a1:\n",
    "    if i%2==0:\n",
    "        print(i, end=',')\n",
    "#Filter out all even numbers from a set"
   ]
  },
  {
   "cell_type": "code",
   "execution_count": 289,
   "id": "90b33ffc",
   "metadata": {},
   "outputs": [
    {
     "name": "stdout",
     "output_type": "stream",
     "text": [
      "2\n",
      "<class 'int'>\n"
     ]
    }
   ],
   "source": [
    "import random\n",
    "z=random.randint(0,5)\n",
    "print(z)"
   ]
  },
  {
   "cell_type": "code",
   "execution_count": 290,
   "id": "e7e45832",
   "metadata": {},
   "outputs": [
    {
     "name": "stdout",
     "output_type": "stream",
     "text": [
      "The set is empty\n"
     ]
    }
   ],
   "source": [
    "set={}\n",
    "if set=={}:\n",
    "    print('The set is empty')\n",
    "else:\n",
    "    print('The set is not empty')\n",
    "#Check if a set is empty"
   ]
  },
  {
   "cell_type": "code",
   "execution_count": 292,
   "id": "2fd9a5e6",
   "metadata": {},
   "outputs": [
    {
     "name": "stdout",
     "output_type": "stream",
     "text": [
      "{'R', 'SQL', 'Python', 'GIT'}\n",
      "{'SQL', 'Python', 'GIT', 'scala', 'java'}\n"
     ]
    }
   ],
   "source": [
    "datascntst={'Python','R','SQL','GIT'}\n",
    "dataengner={'Python','java','scala','GIT','SQL'}\n",
    "print(datascntst)\n",
    "print(dataengner)\n",
    "#Create a nested set (hint: use frozenset)\n",
    "#PLEASE GIVE A SOLUTION OF THAT"
   ]
  },
  {
   "cell_type": "code",
   "execution_count": 293,
   "id": "67e493e3",
   "metadata": {},
   "outputs": [
    {
     "name": "stdout",
     "output_type": "stream",
     "text": [
      "{1, 2, 3, 4, 5, 6, 7, 8}\n",
      "{1, 2, 4, 5, 6, 7, 8}\n"
     ]
    }
   ],
   "source": [
    "setexa={1,2,3,4,5,6,7,8}\n",
    "print(setexa)\n",
    "setexa.discard(3)\n",
    "print(setexa)\n",
    "#Remove an element from a set using the discard method"
   ]
  },
  {
   "cell_type": "code",
   "execution_count": 294,
   "id": "76ae6b3c",
   "metadata": {},
   "outputs": [
    {
     "name": "stdout",
     "output_type": "stream",
     "text": [
      "The two sets are unequal\n"
     ]
    }
   ],
   "source": [
    "if datascntst == dataengner:\n",
    "    print('The two sets are equal')\n",
    "else:\n",
    "    print('The two sets are unequal')\n",
    "#Compare two sets"
   ]
  },
  {
   "cell_type": "code",
   "execution_count": 297,
   "id": "cb9c1565",
   "metadata": {},
   "outputs": [
    {
     "name": "stdout",
     "output_type": "stream",
     "text": [
      "The string is:karan\n"
     ]
    },
    {
     "ename": "TypeError",
     "evalue": "'dict' object is not callable",
     "output_type": "error",
     "traceback": [
      "\u001b[1;31m---------------------------------------------------------------------------\u001b[0m",
      "\u001b[1;31mTypeError\u001b[0m                                 Traceback (most recent call last)",
      "Cell \u001b[1;32mIn[297], line 3\u001b[0m\n\u001b[0;32m      1\u001b[0m strings\u001b[38;5;241m=\u001b[39m\u001b[38;5;124m'\u001b[39m\u001b[38;5;124mkaran\u001b[39m\u001b[38;5;124m'\u001b[39m\n\u001b[0;32m      2\u001b[0m \u001b[38;5;28mprint\u001b[39m(\u001b[38;5;124m'\u001b[39m\u001b[38;5;124mThe string is:\u001b[39m\u001b[38;5;124m'\u001b[39m\u001b[38;5;241m+\u001b[39m strings)\n\u001b[1;32m----> 3\u001b[0m newstrings\u001b[38;5;241m=\u001b[39m\u001b[38;5;28mset\u001b[39m(strings)\n\u001b[0;32m      4\u001b[0m \u001b[38;5;28mprint\u001b[39m(\u001b[38;5;124m'\u001b[39m\u001b[38;5;124mThe string after conversion is:\u001b[39m\u001b[38;5;124m'\u001b[39m\u001b[38;5;241m+\u001b[39m newstrings)\n",
      "\u001b[1;31mTypeError\u001b[0m: 'dict' object is not callable"
     ]
    }
   ],
   "source": [
    "strings='karan'\n",
    "print('The string is:'+ strings)\n",
    "newstrings=set(strings)\n",
    "print('The string after conversion is:'+ newstrings)\n",
    "#Create a set from a string\n",
    "#PLEASE PROVIDE A SOLUTION"
   ]
  },
  {
   "cell_type": "code",
   "execution_count": 300,
   "id": "03339b98",
   "metadata": {},
   "outputs": [
    {
     "name": "stdout",
     "output_type": "stream",
     "text": [
      "<class 'set'>\n"
     ]
    }
   ],
   "source": [
    "z={'Karan'}\n",
    "print(type(z))"
   ]
  },
  {
   "cell_type": "code",
   "execution_count": 306,
   "id": "ce9def9c",
   "metadata": {},
   "outputs": [
    {
     "ename": "ValueError",
     "evalue": "invalid literal for int() with base 10: 'karan'",
     "output_type": "error",
     "traceback": [
      "\u001b[1;31m---------------------------------------------------------------------------\u001b[0m",
      "\u001b[1;31mValueError\u001b[0m                                Traceback (most recent call last)",
      "Cell \u001b[1;32mIn[306], line 1\u001b[0m\n\u001b[1;32m----> 1\u001b[0m i\u001b[38;5;241m=\u001b[39m\u001b[38;5;28mint\u001b[39m(\u001b[38;5;124m'\u001b[39m\u001b[38;5;124mkaran\u001b[39m\u001b[38;5;124m'\u001b[39m)\n\u001b[0;32m      2\u001b[0m \u001b[38;5;28mprint\u001b[39m(i)\n",
      "\u001b[1;31mValueError\u001b[0m: invalid literal for int() with base 10: 'karan'"
     ]
    }
   ],
   "source": [
    "i=int('karan')\n",
    "print(i)\n",
    "#Convert a set of strings to a set of integers\n",
    "#Convert a set of integers to a set of strings\n",
    "#PLEASE PROVIDE A SOLUTION OF THESE TWO's"
   ]
  },
  {
   "cell_type": "code",
   "execution_count": 307,
   "id": "f4bb71db",
   "metadata": {},
   "outputs": [
    {
     "ename": "TypeError",
     "evalue": "'dict' object is not callable",
     "output_type": "error",
     "traceback": [
      "\u001b[1;31m---------------------------------------------------------------------------\u001b[0m",
      "\u001b[1;31mTypeError\u001b[0m                                 Traceback (most recent call last)",
      "Cell \u001b[1;32mIn[307], line 2\u001b[0m\n\u001b[0;32m      1\u001b[0m mytup\u001b[38;5;241m=\u001b[39m(\u001b[38;5;241m1\u001b[39m,\u001b[38;5;241m2\u001b[39m,\u001b[38;5;241m3\u001b[39m,\u001b[38;5;241m4\u001b[39m)\n\u001b[1;32m----> 2\u001b[0m myset\u001b[38;5;241m=\u001b[39m\u001b[38;5;28mset\u001b[39m(mytup)\n\u001b[0;32m      3\u001b[0m \u001b[38;5;28mprint\u001b[39m(myset)\n",
      "\u001b[1;31mTypeError\u001b[0m: 'dict' object is not callable"
     ]
    }
   ],
   "source": [
    "mytup=(1,2,3,4)\n",
    "myset=set(mytup)\n",
    "print(myset)\n",
    "#Create a set from a tuple\n",
    "#PLEASE PROVIDE A SOLUTION"
   ]
  },
  {
   "cell_type": "code",
   "execution_count": 310,
   "id": "5208babd",
   "metadata": {},
   "outputs": [
    {
     "name": "stdout",
     "output_type": "stream",
     "text": [
      "(1, 4, 7)\n",
      "<class 'tuple'>\n"
     ]
    }
   ],
   "source": [
    "myset={1,4,7}\n",
    "mytuple=tuple(myset)\n",
    "print(mytuple)\n",
    "print(type(mytuple))\n",
    "#Convert a set to a tuple"
   ]
  },
  {
   "cell_type": "code",
   "execution_count": 311,
   "id": "5dfa4169",
   "metadata": {},
   "outputs": [
    {
     "data": {
      "text/plain": [
       "{1, 2, 4, 5, 6, 7, 8}"
      ]
     },
     "execution_count": 311,
     "metadata": {},
     "output_type": "execute_result"
    }
   ],
   "source": [
    "setexa"
   ]
  },
  {
   "cell_type": "code",
   "execution_count": 312,
   "id": "f4e77de8",
   "metadata": {},
   "outputs": [
    {
     "name": "stdout",
     "output_type": "stream",
     "text": [
      "The maximum value is: 8\n"
     ]
    }
   ],
   "source": [
    "maximum=max(setexa)\n",
    "print('The maximum value is:',maximum)\n",
    "#Find the maximum value in a set."
   ]
  },
  {
   "cell_type": "code",
   "execution_count": 313,
   "id": "9a3d6ae4",
   "metadata": {},
   "outputs": [
    {
     "name": "stdout",
     "output_type": "stream",
     "text": [
      "The minimum value is: 1\n"
     ]
    }
   ],
   "source": [
    "minimum=min(setexa)\n",
    "print('The minimum value is:',minimum)\n",
    "#Find the minimum value in a set."
   ]
  },
  {
   "cell_type": "code",
   "execution_count": 315,
   "id": "d65005c0",
   "metadata": {},
   "outputs": [
    {
     "name": "stdout",
     "output_type": "stream",
     "text": [
      "Enter a text for set: Orange, mango, banana\n",
      "{' banana', ' mango', 'Orange'}\n"
     ]
    }
   ],
   "source": [
    "s=input('Enter a text for set: ')\n",
    "s={a for a in s.split(',')}\n",
    "print(s)\n",
    "#Create a set from user input"
   ]
  },
  {
   "cell_type": "code",
   "execution_count": 316,
   "id": "5e9b76c7",
   "metadata": {},
   "outputs": [
    {
     "name": "stdout",
     "output_type": "stream",
     "text": [
      "The intersection is:  set()\n"
     ]
    }
   ],
   "source": [
    "num1={1,4,5,8,9}\n",
    "num2={2,3,6,7,10}\n",
    "common=num1 & num2\n",
    "common=num1.intersection(num2)\n",
    "print('The intersection is: ', common)\n",
    "#Check if the intersection of two sets is empty"
   ]
  },
  {
   "cell_type": "code",
   "execution_count": 318,
   "id": "3800af22",
   "metadata": {},
   "outputs": [
    {
     "name": "stdout",
     "output_type": "stream",
     "text": [
      "5\n"
     ]
    }
   ],
   "source": [
    "def fib(n, a=0, b=1):\n",
    "    if n == 0: \n",
    "        return a\n",
    "    return fib(n-1, b, a+b)\n",
    "print(fib(5))"
   ]
  },
  {
   "cell_type": "code",
   "execution_count": 320,
   "id": "1bf7c070",
   "metadata": {},
   "outputs": [
    {
     "ename": "TypeError",
     "evalue": "'dict' object is not callable",
     "output_type": "error",
     "traceback": [
      "\u001b[1;31m---------------------------------------------------------------------------\u001b[0m",
      "\u001b[1;31mTypeError\u001b[0m                                 Traceback (most recent call last)",
      "Cell \u001b[1;32mIn[320], line 2\u001b[0m\n\u001b[0;32m      1\u001b[0m mylst\u001b[38;5;241m=\u001b[39m[\u001b[38;5;241m1\u001b[39m,\u001b[38;5;241m1\u001b[39m,\u001b[38;5;241m2\u001b[39m,\u001b[38;5;241m2\u001b[39m,\u001b[38;5;241m3\u001b[39m,\u001b[38;5;241m4\u001b[39m,\u001b[38;5;241m5\u001b[39m,\u001b[38;5;241m6\u001b[39m,\u001b[38;5;241m7\u001b[39m,\u001b[38;5;241m7\u001b[39m,\u001b[38;5;241m8\u001b[39m]\n\u001b[1;32m----> 2\u001b[0m finallst\u001b[38;5;241m=\u001b[39m\u001b[38;5;28mset\u001b[39m(mylst)\n\u001b[0;32m      3\u001b[0m \u001b[38;5;28mprint\u001b[39m(\u001b[38;5;28mlist\u001b[39m(finallst))\n",
      "\u001b[1;31mTypeError\u001b[0m: 'dict' object is not callable"
     ]
    }
   ],
   "source": [
    "mylst=[1,1,2,2,3,4,5,6,7,7,8]\n",
    "finallst=set(mylst)\n",
    "print(list(finallst))\n",
    "#Remove duplicates from a list using sets\n",
    "#PLEASE GIVE A SOLUTION"
   ]
  },
  {
   "cell_type": "code",
   "execution_count": 321,
   "id": "12d5a952",
   "metadata": {},
   "outputs": [
    {
     "data": {
      "text/plain": [
       "{8, 9, 10, 15, 19, 20, 22, 25}"
      ]
     },
     "execution_count": 321,
     "metadata": {},
     "output_type": "execute_result"
    }
   ],
   "source": [
    "a1"
   ]
  },
  {
   "cell_type": "code",
   "execution_count": 322,
   "id": "d1c1385a",
   "metadata": {},
   "outputs": [
    {
     "data": {
      "text/plain": [
       "{8, 9, 10, 19, 22, 25}"
      ]
     },
     "execution_count": 322,
     "metadata": {},
     "output_type": "execute_result"
    }
   ],
   "source": [
    "b1"
   ]
  },
  {
   "cell_type": "code",
   "execution_count": 323,
   "id": "08cb8cf9",
   "metadata": {},
   "outputs": [
    {
     "data": {
      "text/plain": [
       "[2, 3, 4, 6, 8, 9]"
      ]
     },
     "execution_count": 323,
     "metadata": {},
     "output_type": "execute_result"
    }
   ],
   "source": [
    "a2"
   ]
  },
  {
   "cell_type": "code",
   "execution_count": 327,
   "id": "f613187b",
   "metadata": {},
   "outputs": [
    {
     "name": "stdout",
     "output_type": "stream",
     "text": [
      "<function commondata at 0x000002019587EAC0>\n"
     ]
    }
   ],
   "source": [
    "def commondata(a1,b1):\n",
    "    result=False\n",
    "    for x in a1:\n",
    "        for y in b1:\n",
    "            if x==y:\n",
    "                result=True\n",
    "                return result\n",
    "    return result\n",
    "print(commondata)"
   ]
  },
  {
   "cell_type": "code",
   "execution_count": 328,
   "id": "0d0cb341",
   "metadata": {},
   "outputs": [
    {
     "name": "stdout",
     "output_type": "stream",
     "text": [
      "Enter the Total Number of Terms: \n",
      "4\n",
      "2 raised to the power  0  is  1\n",
      "2 raised to the power  1  is  2\n",
      "2 raised to the power  2  is  4\n",
      "2 raised to the power  3  is  8\n"
     ]
    }
   ],
   "source": [
    "print(\"Enter the Total Number of Terms: \")\n",
    "tot = int(input())\n",
    "for i in range(tot):\n",
    "    print(\"2 raised to the power \", i, \" is \", 2 ** i)"
   ]
  },
  {
   "cell_type": "code",
   "execution_count": 332,
   "id": "ab5ad328",
   "metadata": {},
   "outputs": [
    {
     "name": "stdout",
     "output_type": "stream",
     "text": [
      "Triangular number sequence, finding the nth term\n",
      "Type a number between 1 to 10: 3\n",
      "The 3th triangular num is:\n"
     ]
    }
   ],
   "source": [
    "print(\"Triangular number sequence, finding the nth term\")\n",
    "n=int(input('Type a number between 1 to 10: '))\n",
    "triangularnum=int(n*(n+1)/2)\n",
    "print('The '+str(n)+'th triangular num is:')\n",
    "#Create a set of the first `n` triangular numbers"
   ]
  },
  {
   "cell_type": "code",
   "execution_count": 333,
   "id": "ec38feee",
   "metadata": {},
   "outputs": [
    {
     "name": "stdout",
     "output_type": "stream",
     "text": [
      "True\n"
     ]
    }
   ],
   "source": [
    "s1 = {1, 2, 3, 4, 5}\n",
    "s2 = {4, 5}\n",
    "print(s2.issubset(s1))\n",
    "#Check if a set contains another set as a subset"
   ]
  },
  {
   "cell_type": "code",
   "execution_count": 335,
   "id": "3ab35e3e",
   "metadata": {},
   "outputs": [
    {
     "data": {
      "text/plain": [
       "{8, 9, 10, 15, 19, 20, 22, 25}"
      ]
     },
     "execution_count": 335,
     "metadata": {},
     "output_type": "execute_result"
    }
   ],
   "source": [
    "a1"
   ]
  },
  {
   "cell_type": "code",
   "execution_count": 336,
   "id": "6705a075",
   "metadata": {},
   "outputs": [
    {
     "data": {
      "text/plain": [
       "{8, 9, 10, 19, 22, 25}"
      ]
     },
     "execution_count": 336,
     "metadata": {},
     "output_type": "execute_result"
    }
   ],
   "source": [
    "b1"
   ]
  },
  {
   "cell_type": "code",
   "execution_count": 337,
   "id": "020a19a3",
   "metadata": {},
   "outputs": [
    {
     "data": {
      "text/plain": [
       "[2, 3, 4, 6, 8, 9]"
      ]
     },
     "execution_count": 337,
     "metadata": {},
     "output_type": "execute_result"
    }
   ],
   "source": [
    "a2"
   ]
  },
  {
   "cell_type": "code",
   "execution_count": 339,
   "id": "0c171f2d",
   "metadata": {},
   "outputs": [],
   "source": [
    "b2={1,5,9,7}"
   ]
  },
  {
   "cell_type": "code",
   "execution_count": 341,
   "id": "1f347fbb",
   "metadata": {},
   "outputs": [
    {
     "name": "stdout",
     "output_type": "stream",
     "text": [
      "{1, 5, 7, 8, 9, 10, 15, 19, 20, 22, 25}\n"
     ]
    }
   ],
   "source": [
    "new_set=a1.union(a1).union(b1).union(b2)\n",
    "print(new_set)\n",
    "#Merge multiple sets into one"
   ]
  },
  {
   "cell_type": "code",
   "execution_count": null,
   "id": "985d7206",
   "metadata": {},
   "outputs": [],
   "source": []
  }
 ],
 "metadata": {
  "kernelspec": {
   "display_name": "Python 3 (ipykernel)",
   "language": "python",
   "name": "python3"
  },
  "language_info": {
   "codemirror_mode": {
    "name": "ipython",
    "version": 3
   },
   "file_extension": ".py",
   "mimetype": "text/x-python",
   "name": "python",
   "nbconvert_exporter": "python",
   "pygments_lexer": "ipython3",
   "version": "3.11.4"
  }
 },
 "nbformat": 4,
 "nbformat_minor": 5
}
